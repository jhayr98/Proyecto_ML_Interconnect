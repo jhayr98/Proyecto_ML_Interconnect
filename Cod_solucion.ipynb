{
 "cells": [
  {
   "cell_type": "markdown",
   "metadata": {},
   "source": [
    "## Descripción del proyecto\n",
    "\n",
    "Al operador de telecomunicaciones Interconnect le gustaría poder pronosticar su tasa de cancelación de clientes. Si se descubre que un usuario o usuaria planea irse, se le ofrecerán códigos promocionales y opciones de planes especiales. El equipo de marketing de Interconnect ha recopilado algunos de los datos personales de sus clientes, incluyendo información sobre sus planes y contratos.\n",
    "\n",
    "### Servicios de Interconnect\n",
    "\n",
    "Interconnect proporciona principalmente dos tipos de servicios:\n",
    "\n",
    "1. Comunicación por teléfono fijo. El teléfono se puede conectar a varias líneas de manera simultánea.\n",
    "2. Internet. La red se puede configurar a través de una línea telefónica (DSL, *línea de abonado digital*) o a través de un cable de fibra óptica.\n",
    "\n",
    "Algunos otros servicios que ofrece la empresa incluyen:\n",
    "\n",
    "- Seguridad en Internet: software antivirus (*ProtecciónDeDispositivo*) y un bloqueador de sitios web maliciosos (*SeguridadEnLínea*).\n",
    "- Una línea de soporte técnico (*SoporteTécnico*).\n",
    "- Almacenamiento de archivos en la nube y backup de datos (*BackupOnline*).\n",
    "- Streaming de TV (*StreamingTV*) y directorio de películas (*StreamingPelículas*)\n",
    "\n",
    "La clientela puede elegir entre un pago mensual o firmar un contrato de 1 o 2 años. Puede utilizar varios métodos de pago y recibir una factura electrónica después de una transacción.\n",
    "\n",
    "### Descripción de los datos\n",
    "\n",
    "Los datos consisten en archivos obtenidos de diferentes fuentes:\n",
    "\n",
    "- `contract.csv` — información del contrato;\n",
    "- `personal.csv` — datos personales del cliente;\n",
    "- `internet.csv` — información sobre los servicios de Internet;\n",
    "- `phone.csv` — información sobre los servicios telefónicos.\n",
    "\n",
    "En cada archivo, la columna `customerID` (ID de cliente) contiene un código único asignado a cada cliente. La información del contrato es válida a partir del 1 de febrero de 2020."
   ]
  },
  {
   "cell_type": "markdown",
   "metadata": {},
   "source": [
    "##  Importar las librerias necesaria"
   ]
  },
  {
   "cell_type": "code",
   "execution_count": 90,
   "metadata": {},
   "outputs": [],
   "source": [
    "import pandas as pd\n",
    "from datetime import datetime\n",
    "import matplotlib.pyplot as plt\n",
    "import numpy as np\n",
    "import seaborn as sns\n",
    "\n",
    "from sklearn.utils import shuffle\n",
    "from sklearn.linear_model import LogisticRegression\n",
    "from sklearn.metrics import f1_score\n",
    "from sklearn.metrics import roc_auc_score\n",
    "\n",
    "from sklearn.model_selection import train_test_split\n",
    "from sklearn.preprocessing import StandardScaler\n",
    "\n",
    "from sklearn.metrics import precision_score\n",
    "from sklearn.metrics import recall_score\n",
    "\n",
    "from sklearn.ensemble import RandomForestClassifier \n",
    "from sklearn.tree import DecisionTreeClassifier\n",
    "\n",
    "from xgboost import XGBClassifier\n",
    "from sklearn.metrics import accuracy_score, classification_report, confusion_matrix\n",
    "from sklearn.model_selection import GridSearchCV\n",
    "\n",
    "from sklearn.metrics import make_scorer, roc_auc_score\n",
    "from catboost import CatBoostClassifier, Pool\n",
    "\n",
    "\n",
    "import tensorflow as tf\n",
    "from tensorflow.keras.models import Sequential\n",
    "from tensorflow.keras.layers import Dense\n",
    "from sklearn.model_selection import train_test_split\n",
    "from sklearn.metrics import accuracy_score, confusion_matrix\n",
    "\n",
    "from tensorflow.keras.optimizers import Adam\n",
    "\n",
    "from sklearn.metrics import roc_auc_score\n",
    "from keras.callbacks import EarlyStopping\n"
   ]
  },
  {
   "cell_type": "code",
   "execution_count": 2,
   "metadata": {},
   "outputs": [],
   "source": [
    "%matplotlib inline\n",
    "%config InlineBackend.figure_format = 'png'\n",
    "\n",
    "# la siguiente línea proporciona gráficos de mejor calidad en pantallas HiDPI\n",
    "%config InlineBackend.figure_format = 'retina'"
   ]
  },
  {
   "cell_type": "markdown",
   "metadata": {},
   "source": [
    "## Importar los documentos"
   ]
  },
  {
   "cell_type": "code",
   "execution_count": 3,
   "metadata": {},
   "outputs": [],
   "source": [
    "# Importar los documentos\n",
    "df_contract=pd.read_csv('/datasets/final_provider/contract.csv')\n",
    "df_internet=pd.read_csv('/datasets/final_provider/internet.csv')\n",
    "df_personal=pd.read_csv('/datasets/final_provider/personal.csv')\n",
    "df_phone=pd.read_csv('/datasets/final_provider/phone.csv')"
   ]
  },
  {
   "cell_type": "markdown",
   "metadata": {},
   "source": [
    "## EDA"
   ]
  },
  {
   "cell_type": "code",
   "execution_count": 4,
   "metadata": {},
   "outputs": [
    {
     "name": "stdout",
     "output_type": "stream",
     "text": [
      "customers en contrato: 7043\n",
      "customers en internet: 5517\n",
      "customers en personal: 7043\n",
      "customers en phone: 6361\n"
     ]
    }
   ],
   "source": [
    "# Imprimir cuantos usuarios unicos hay en cada documento\n",
    "print('customers en contrato:',len(df_contract['customerID'].unique()))\n",
    "print('customers en internet:',len(df_internet['customerID'].unique()))\n",
    "print('customers en personal:',len(df_personal['customerID'].unique()))\n",
    "print('customers en phone:',len(df_phone['customerID'].unique()))"
   ]
  },
  {
   "cell_type": "code",
   "execution_count": 5,
   "metadata": {},
   "outputs": [
    {
     "name": "stdout",
     "output_type": "stream",
     "text": [
      "<class 'pandas.core.frame.DataFrame'>\n",
      "RangeIndex: 7043 entries, 0 to 7042\n",
      "Data columns (total 8 columns):\n",
      " #   Column            Non-Null Count  Dtype  \n",
      "---  ------            --------------  -----  \n",
      " 0   customerID        7043 non-null   object \n",
      " 1   BeginDate         7043 non-null   object \n",
      " 2   EndDate           7043 non-null   object \n",
      " 3   Type              7043 non-null   object \n",
      " 4   PaperlessBilling  7043 non-null   object \n",
      " 5   PaymentMethod     7043 non-null   object \n",
      " 6   MonthlyCharges    7043 non-null   float64\n",
      " 7   TotalCharges      7043 non-null   object \n",
      "dtypes: float64(1), object(7)\n",
      "memory usage: 440.3+ KB\n",
      "None\n",
      "\n",
      "<class 'pandas.core.frame.DataFrame'>\n",
      "RangeIndex: 5517 entries, 0 to 5516\n",
      "Data columns (total 8 columns):\n",
      " #   Column            Non-Null Count  Dtype \n",
      "---  ------            --------------  ----- \n",
      " 0   customerID        5517 non-null   object\n",
      " 1   InternetService   5517 non-null   object\n",
      " 2   OnlineSecurity    5517 non-null   object\n",
      " 3   OnlineBackup      5517 non-null   object\n",
      " 4   DeviceProtection  5517 non-null   object\n",
      " 5   TechSupport       5517 non-null   object\n",
      " 6   StreamingTV       5517 non-null   object\n",
      " 7   StreamingMovies   5517 non-null   object\n",
      "dtypes: object(8)\n",
      "memory usage: 344.9+ KB\n",
      "None\n",
      "\n",
      "<class 'pandas.core.frame.DataFrame'>\n",
      "RangeIndex: 7043 entries, 0 to 7042\n",
      "Data columns (total 5 columns):\n",
      " #   Column         Non-Null Count  Dtype \n",
      "---  ------         --------------  ----- \n",
      " 0   customerID     7043 non-null   object\n",
      " 1   gender         7043 non-null   object\n",
      " 2   SeniorCitizen  7043 non-null   int64 \n",
      " 3   Partner        7043 non-null   object\n",
      " 4   Dependents     7043 non-null   object\n",
      "dtypes: int64(1), object(4)\n",
      "memory usage: 275.2+ KB\n",
      "None\n",
      "\n",
      "<class 'pandas.core.frame.DataFrame'>\n",
      "RangeIndex: 6361 entries, 0 to 6360\n",
      "Data columns (total 2 columns):\n",
      " #   Column         Non-Null Count  Dtype \n",
      "---  ------         --------------  ----- \n",
      " 0   customerID     6361 non-null   object\n",
      " 1   MultipleLines  6361 non-null   object\n",
      "dtypes: object(2)\n",
      "memory usage: 99.5+ KB\n",
      "None\n"
     ]
    }
   ],
   "source": [
    "# Verificar si hay valores ausentes\n",
    "print(df_contract.info())\n",
    "print()\n",
    "print(df_internet.info())\n",
    "print()\n",
    "print(df_personal.info())\n",
    "print()\n",
    "print(df_phone.info())"
   ]
  },
  {
   "cell_type": "code",
   "execution_count": 6,
   "metadata": {},
   "outputs": [],
   "source": [
    "# Debido a que los dfs contrato y personal tienen la mayor cantidad de clientes unicos y que no existen \n",
    "# valores ausentes en ningun dataframe, asumiré por el momento que los usuarios que no estan en df_internet\n",
    "# son clientes de la empresa pero no cuentan con servicio de internet, lo mismo con el df_phone\n",
    "\n",
    "# Aplicar join a los 4 dataframes\n",
    "\n",
    "df_resultado = pd.merge(df_contract,df_personal, on='customerID', how='left')\n",
    "df_resultado= pd.merge(df_resultado,df_internet, on='customerID', how='left')\n",
    "df_resultado= pd.merge(df_resultado,df_phone, on='customerID', how='left')"
   ]
  },
  {
   "cell_type": "code",
   "execution_count": 7,
   "metadata": {},
   "outputs": [],
   "source": [
    "#Convertir la columna BeginDate en datime, usar coerce para reeplazar cualquier valor extraño por NaT\n",
    "df_resultado['BeginDate'] = pd.to_datetime(df_resultado['BeginDate'], errors='coerce')\n",
    "# Convertir la columna EndDate en datime, usar coerce para reeplazar cualquier valor extraño por NaT\n",
    "df_resultado['EndDate'] = pd.to_datetime(df_resultado['EndDate'], errors='coerce')"
   ]
  },
  {
   "cell_type": "code",
   "execution_count": 8,
   "metadata": {},
   "outputs": [
    {
     "data": {
      "image/png": "[encoded data removed]",
      "text/plain": [
       "<Figure size 432x288 with 1 Axes>"
      ]
     },
     "metadata": {
      "image/png": {
       "height": 278,
       "width": 395
      },
      "needs_background": "light"
     },
     "output_type": "display_data"
    }
   ],
   "source": [
    "# Extraer el año de la columna datetime y crear el histograma\n",
    "plt.hist(df_resultado['BeginDate'].dt.year, bins='auto', edgecolor='black')\n",
    "\n",
    "# Configurar el título y las etiquetas del eje\n",
    "plt.title('Histograma de Años - Gráfico 1')\n",
    "plt.xlabel('Año')\n",
    "plt.ylabel('Frecuencia')\n",
    "\n",
    "# Mostrar el histograma\n",
    "plt.show()"
   ]
  },
  {
   "cell_type": "code",
   "execution_count": 9,
   "metadata": {},
   "outputs": [],
   "source": [
    "# Calcular un campo que refiera a la duracion de un cliente con el servicio\n",
    "df_resultado['duración']=(df_resultado['EndDate']-df_resultado['BeginDate']).dt.days"
   ]
  },
  {
   "cell_type": "code",
   "execution_count": 10,
   "metadata": {},
   "outputs": [],
   "source": [
    "# Crear campo target donde se diferencia los clientes que se fueron con los que no (permanecen:1, se fueron:0)\n",
    "df_resultado['target'] = df_resultado['duración'].apply(lambda x: 1 if pd.isna(x) else 0)\n"
   ]
  },
  {
   "cell_type": "code",
   "execution_count": 11,
   "metadata": {},
   "outputs": [
    {
     "name": "stdout",
     "output_type": "stream",
     "text": [
      "InternetService : ['DSL' 'Fiber optic' nan]\n",
      "OnlineSecurity  : ['No' 'Yes' nan]\n",
      "OnlineBackup    : ['Yes' 'No' nan]\n",
      "DeviceProtection: ['No' 'Yes' nan]\n",
      "TechSupport     : ['No' 'Yes' nan]\n",
      "StreamingTV     : ['No' 'Yes' nan]\n",
      "StreamingMovies : ['No' 'Yes' nan]\n",
      "MultipleLines   : [nan 'No' 'Yes']\n"
     ]
    }
   ],
   "source": [
    "# Ver los valores de las demas caracteristicas que tienen valores ausentes\n",
    "print('InternetService :',df_resultado['InternetService'].unique())\n",
    "print('OnlineSecurity  :',df_resultado['OnlineSecurity'].unique())\n",
    "print('OnlineBackup    :',df_resultado['OnlineBackup'].unique())\n",
    "print('DeviceProtection:',df_resultado['DeviceProtection'].unique())\n",
    "print('TechSupport     :',df_resultado['TechSupport'].unique())\n",
    "print('StreamingTV     :',df_resultado['StreamingTV'].unique())\n",
    "print('StreamingMovies :',df_resultado['StreamingMovies'].unique())\n",
    "print('MultipleLines   :',df_resultado['MultipleLines'].unique())"
   ]
  },
  {
   "cell_type": "code",
   "execution_count": 12,
   "metadata": {},
   "outputs": [],
   "source": [
    "# Como se puede ver el campo duracion (producto de BeginDate y EndDate ) esta directamente relacionado al target\n",
    "# cuando duración es NaN el target es 1 y cuando es diferente de NaN el target es 0. Lo que significa\n",
    "# que de incluirlo en algun modelo causaría sobreajuste y se le daría una alta importancia a duración y a EndDate que \n",
    "# no deberian tener.\n",
    "# Por lo tanto no tomaré en cuenta los campos de fecha y duración\n",
    "\n",
    "df_resultado.drop(['BeginDate','EndDate','duración'], axis=1, inplace=True)"
   ]
  },
  {
   "cell_type": "code",
   "execution_count": 13,
   "metadata": {},
   "outputs": [],
   "source": [
    "# Hay 11 registros donde no aparece el TotalCharges y en su lugar hay un tab, los borraré porque es una cantidad\n",
    "# muy baja\n",
    "df_resultado.drop(df_resultado.query('TotalCharges==\" \"').index, inplace=True)\n",
    "\n",
    "# Ademas convertir dicho campo a numeric\n",
    "df_resultado['TotalCharges'] = pd.to_numeric(df_resultado['TotalCharges'])"
   ]
  },
  {
   "cell_type": "code",
   "execution_count": 14,
   "metadata": {},
   "outputs": [],
   "source": [
    "# Los campos provenientes de df_internet tienen valores nulos si es que los clientes no contaban con el servicio,\n",
    "# por lo tanto rellenaré los valores nulos con 'No'\n",
    "\n",
    "df_resultado['InternetService']=df_resultado['InternetService'].fillna('No')\n",
    "df_resultado['OnlineSecurity']=df_resultado['OnlineSecurity'].fillna('No')\n",
    "df_resultado['OnlineBackup']=df_resultado['OnlineBackup'].fillna('No')\n",
    "df_resultado['DeviceProtection']=df_resultado['DeviceProtection'].fillna('No')\n",
    "df_resultado['TechSupport']=df_resultado['TechSupport'].fillna('No')\n",
    "df_resultado['StreamingTV']=df_resultado['StreamingTV'].fillna('No')\n",
    "df_resultado['StreamingMovies']=df_resultado['StreamingMovies'].fillna('No')\n",
    "\n",
    "# También incluyo a MultipleLines\n",
    "df_resultado['MultipleLines']=df_resultado['MultipleLines'].fillna('No')"
   ]
  },
  {
   "cell_type": "code",
   "execution_count": 15,
   "metadata": {},
   "outputs": [
    {
     "data": {
      "image/png": "[encoded data removed]",
      "text/plain": [
       "<Figure size 1152x720 with 4 Axes>"
      ]
     },
     "metadata": {
      "image/png": {
       "height": 712,
       "width": 1145
      },
      "needs_background": "light"
     },
     "output_type": "display_data"
    }
   ],
   "source": [
    "# Grafico para evaluar algunos campos respecto al target\n",
    "\n",
    "fig, axs = plt.subplots(2, 2, figsize=(16, 10), gridspec_kw=dict(width_ratios=(1, 1), height_ratios=(1, 1)))\n",
    "\n",
    "ax=axs[0][0]\n",
    "\n",
    "dft = df_resultado.groupby(['Type', 'target'])['target'].count().unstack()\n",
    "# Crear el gráfico de barras apiladas\n",
    "dft.plot(kind='bar', stacked=True, color=['blue', 'orange'], ax=ax)\n",
    "# Configurar el título y las etiquetas del eje\n",
    "ax.set_title('Type of contract')\n",
    "ax.set_xticklabels(ax.get_xticklabels(), rotation=15, ha='right')\n",
    "ax.set_xlabel('')\n",
    "#ax.set_ylabel('Frecuencia')\n",
    "\n",
    "\n",
    "ax = axs[0][1]\n",
    "\n",
    "dft = df_resultado.groupby(['MultipleLines', 'target'])['target'].count().unstack()\n",
    "# Crear el gráfico de barras apiladas\n",
    "dft.plot(kind='bar', stacked=True, color=['blue', 'orange'], ax=ax)\n",
    "# Configurar el título y las etiquetas del eje\n",
    "ax.set_title('MultipleLines ')\n",
    "ax.set_xticklabels(ax.get_xticklabels(), rotation=15, ha='right')\n",
    "ax.set_xlabel('')\n",
    "\n",
    "ax = axs[1][0]\n",
    "\n",
    "dft = df_resultado.groupby(['InternetService', 'target'])['target'].count().unstack()\n",
    "# Crear el gráfico de barras apiladas\n",
    "dft.plot(kind='bar', stacked=True, color=['blue', 'orange'], ax=ax)\n",
    "# Configurar el título y las etiquetas del eje\n",
    "ax.set_title('InternetService')\n",
    "ax.set_xticklabels(ax.get_xticklabels(), rotation=15, ha='right')\n",
    "ax.set_xlabel('')\n",
    "\n",
    "\n",
    "\n",
    "ax = axs[1][1]\n",
    "\n",
    "dft = df_resultado.groupby(['PaymentMethod', 'target'])['target'].count().unstack()\n",
    "# Crear el gráfico de barras apiladas\n",
    "dft.plot(kind='bar', stacked=True, color=['blue', 'orange'], ax=ax)\n",
    "# Configurar el título y las etiquetas del eje\n",
    "ax.set_title('PaymentMethod')\n",
    "ax.set_xticklabels(ax.get_xticklabels(), rotation=15, ha='right')\n",
    "ax.set_xlabel('')\n",
    "#ax.set_ylabel('Frecuencia')\n",
    "\n",
    "# Ajustar el espaciado entre subgráficos\n",
    "plt.tight_layout()"
   ]
  },
  {
   "cell_type": "code",
   "execution_count": 16,
   "metadata": {},
   "outputs": [
    {
     "data": {
      "image/png": "[encoded data removed]",
      "text/plain": [
       "<Figure size 432x288 with 1 Axes>"
      ]
     },
     "metadata": {
      "image/png": {
       "height": 278,
       "width": 406
      },
      "needs_background": "light"
     },
     "output_type": "display_data"
    }
   ],
   "source": [
    "# Gráfico de densidad de MonthlyCharges\n",
    "\n",
    "sns.kdeplot(df_resultado['MonthlyCharges'], shade=True)\n",
    "\n",
    "\n",
    "plt.title('Gráfico de Densidad de MonthlyCharges')\n",
    "plt.xlabel('Pagos mensuales')\n",
    "plt.ylabel('Densidad')\n",
    "\n",
    "\n",
    "plt.show()"
   ]
  },
  {
   "cell_type": "code",
   "execution_count": 17,
   "metadata": {},
   "outputs": [
    {
     "data": {
      "image/png": "[encoded data removed]",
      "text/plain": [
       "<Figure size 432x288 with 1 Axes>"
      ]
     },
     "metadata": {
      "image/png": {
       "height": 278,
       "width": 416
      },
      "needs_background": "light"
     },
     "output_type": "display_data"
    }
   ],
   "source": [
    "# Grafico de densidad de TotalCharges\n",
    "\n",
    "sns.kdeplot(df_resultado['TotalCharges'], shade=True)\n",
    "\n",
    "plt.title('Gráfico de Densidad de TotalCharges')\n",
    "plt.xlabel('Pagos totales')\n",
    "plt.ylabel('Densidad')\n",
    "\n",
    "# Muestra el gráfico de densidad\n",
    "plt.show()"
   ]
  },
  {
   "cell_type": "code",
   "execution_count": 18,
   "metadata": {},
   "outputs": [
    {
     "data": {
      "image/png": "[encoded data removed]",
      "text/plain": [
       "<Figure size 360x288 with 1 Axes>"
      ]
     },
     "metadata": {
      "image/png": {
       "height": 263,
       "width": 348
      },
      "needs_background": "light"
     },
     "output_type": "display_data"
    }
   ],
   "source": [
    "# Gráfico de disperción de TotalCharges vs target\n",
    "\n",
    "plt.figure(figsize=(5, 4))\n",
    "# Dividir el DataFrame en dos basado en los valores del target\n",
    "grupo_A = df_resultado[df_resultado['target'] == 1]\n",
    "grupo_B = df_resultado[df_resultado['target'] == 0]\n",
    "\n",
    "# Crear un gráfico de dispersión para cada grupo\n",
    "plt.scatter(grupo_A['target'], grupo_A['MonthlyCharges'], label='Valor A', color='blue')\n",
    "plt.scatter(grupo_B['target'], grupo_B['MonthlyCharges'], label='Valor B', color='orange')\n",
    "\n",
    "# Configurar etiquetas y leyenda\n",
    "plt.title('Grafico de dispersion MonthlyCharges vs target')\n",
    "plt.ylabel('MonthlyCharges')\n",
    "plt.xticks([1, 0], ['permanece', 'se fue'])\n",
    "#plt.legend()\n",
    "\n",
    "# Mostrar el gráfico\n",
    "plt.show()\n",
    "\n"
   ]
  },
  {
   "cell_type": "code",
   "execution_count": 19,
   "metadata": {},
   "outputs": [
    {
     "data": {
      "image/png": "[encoded data removed]",
      "text/plain": [
       "<Figure size 360x288 with 1 Axes>"
      ]
     },
     "metadata": {
      "image/png": {
       "height": 263,
       "width": 355
      },
      "needs_background": "light"
     },
     "output_type": "display_data"
    }
   ],
   "source": [
    "# Gráfico de disperción de TotalCharges vs target\n",
    "\n",
    "plt.figure(figsize=(5, 4))\n",
    "# Dividir el DataFrame en dos basado en los valores del target\n",
    "grupo_A = df_resultado[df_resultado['target'] == 1]\n",
    "grupo_B = df_resultado[df_resultado['target'] == 0]\n",
    "\n",
    "# Crear un gráfico de dispersión para cada grupo\n",
    "plt.scatter(grupo_A['target'], grupo_A['TotalCharges'], label='Valor A', color='blue')\n",
    "plt.scatter(grupo_B['target'], grupo_B['TotalCharges'], label='Valor B', color='orange')\n",
    "\n",
    "# Configurar etiquetas y leyenda\n",
    "plt.title('Grafico de dispersion TotalCharges vs target')\n",
    "plt.ylabel('TotalCharges')\n",
    "plt.xticks([1, 0], ['permanece', 'se fue'])\n",
    "#plt.legend()\n",
    "\n",
    "# Mostrar el gráfico\n",
    "plt.show()"
   ]
  },
  {
   "cell_type": "code",
   "execution_count": 20,
   "metadata": {},
   "outputs": [
    {
     "data": {
      "text/plain": [
       "1    0.734215\n",
       "0    0.265785\n",
       "Name: target, dtype: float64"
      ]
     },
     "execution_count": 20,
     "metadata": {},
     "output_type": "execute_result"
    }
   ],
   "source": [
    "# Por último verificar el desiquilibro de clases \n",
    "df_resultado['target'].value_counts()/df_resultado.shape[0]"
   ]
  },
  {
   "cell_type": "markdown",
   "metadata": {},
   "source": [
    "## Modelos\n"
   ]
  },
  {
   "cell_type": "code",
   "execution_count": 21,
   "metadata": {},
   "outputs": [],
   "source": [
    "# No es necesario el feature customerID, lo eliminaré del dataset pero lo guardaré aparte\n",
    "customerID=df_resultado['customerID']\n",
    "df_resultado=df_resultado.drop('customerID', axis=1)"
   ]
  },
  {
   "cell_type": "code",
   "execution_count": 22,
   "metadata": {},
   "outputs": [
    {
     "data": {
      "text/html": [
       "<div>\n",
       "<style scoped>\n",
       "    .dataframe tbody tr th:only-of-type {\n",
       "        vertical-align: middle;\n",
       "    }\n",
       "\n",
       "    .dataframe tbody tr th {\n",
       "        vertical-align: top;\n",
       "    }\n",
       "\n",
       "    .dataframe thead th {\n",
       "        text-align: right;\n",
       "    }\n",
       "</style>\n",
       "<table border=\"1\" class=\"dataframe\">\n",
       "  <thead>\n",
       "    <tr style=\"text-align: right;\">\n",
       "      <th></th>\n",
       "      <th>Type</th>\n",
       "      <th>PaperlessBilling</th>\n",
       "      <th>PaymentMethod</th>\n",
       "      <th>MonthlyCharges</th>\n",
       "      <th>TotalCharges</th>\n",
       "      <th>gender</th>\n",
       "      <th>SeniorCitizen</th>\n",
       "      <th>Partner</th>\n",
       "      <th>Dependents</th>\n",
       "      <th>InternetService</th>\n",
       "      <th>OnlineSecurity</th>\n",
       "      <th>OnlineBackup</th>\n",
       "      <th>DeviceProtection</th>\n",
       "      <th>TechSupport</th>\n",
       "      <th>StreamingTV</th>\n",
       "      <th>StreamingMovies</th>\n",
       "      <th>MultipleLines</th>\n",
       "      <th>target</th>\n",
       "    </tr>\n",
       "  </thead>\n",
       "  <tbody>\n",
       "    <tr>\n",
       "      <th>0</th>\n",
       "      <td>Month-to-month</td>\n",
       "      <td>Yes</td>\n",
       "      <td>Electronic check</td>\n",
       "      <td>29.85</td>\n",
       "      <td>29.85</td>\n",
       "      <td>Female</td>\n",
       "      <td>0</td>\n",
       "      <td>Yes</td>\n",
       "      <td>No</td>\n",
       "      <td>DSL</td>\n",
       "      <td>No</td>\n",
       "      <td>Yes</td>\n",
       "      <td>No</td>\n",
       "      <td>No</td>\n",
       "      <td>No</td>\n",
       "      <td>No</td>\n",
       "      <td>No</td>\n",
       "      <td>1</td>\n",
       "    </tr>\n",
       "    <tr>\n",
       "      <th>1</th>\n",
       "      <td>One year</td>\n",
       "      <td>No</td>\n",
       "      <td>Mailed check</td>\n",
       "      <td>56.95</td>\n",
       "      <td>1889.50</td>\n",
       "      <td>Male</td>\n",
       "      <td>0</td>\n",
       "      <td>No</td>\n",
       "      <td>No</td>\n",
       "      <td>DSL</td>\n",
       "      <td>Yes</td>\n",
       "      <td>No</td>\n",
       "      <td>Yes</td>\n",
       "      <td>No</td>\n",
       "      <td>No</td>\n",
       "      <td>No</td>\n",
       "      <td>No</td>\n",
       "      <td>1</td>\n",
       "    </tr>\n",
       "  </tbody>\n",
       "</table>\n",
       "</div>"
      ],
      "text/plain": [
       "             Type PaperlessBilling     PaymentMethod  MonthlyCharges  \\\n",
       "0  Month-to-month              Yes  Electronic check           29.85   \n",
       "1        One year               No      Mailed check           56.95   \n",
       "\n",
       "   TotalCharges  gender  SeniorCitizen Partner Dependents InternetService  \\\n",
       "0         29.85  Female              0     Yes         No             DSL   \n",
       "1       1889.50    Male              0      No         No             DSL   \n",
       "\n",
       "  OnlineSecurity OnlineBackup DeviceProtection TechSupport StreamingTV  \\\n",
       "0             No          Yes               No          No          No   \n",
       "1            Yes           No              Yes          No          No   \n",
       "\n",
       "  StreamingMovies MultipleLines  target  \n",
       "0              No            No       1  \n",
       "1              No            No       1  "
      ]
     },
     "execution_count": 22,
     "metadata": {},
     "output_type": "execute_result"
    }
   ],
   "source": [
    "df_resultado.head(2)"
   ]
  },
  {
   "cell_type": "code",
   "execution_count": 23,
   "metadata": {},
   "outputs": [],
   "source": [
    "# definir variables categóricas\n",
    "categoricas= ['Type','PaperlessBilling','PaymentMethod','gender','Partner','Dependents','InternetService','OnlineSecurity',\n",
    "              'OnlineBackup','DeviceProtection','TechSupport','StreamingTV','StreamingMovies','MultipleLines']\n",
    "numeric= ['MonthlyCharges','TotalCharges']"
   ]
  },
  {
   "cell_type": "markdown",
   "metadata": {},
   "source": [
    "### REGRESION LOGISTICA: aplicar one hot encoding y un scaler (necesario para RL)"
   ]
  },
  {
   "cell_type": "code",
   "execution_count": 24,
   "metadata": {},
   "outputs": [],
   "source": [
    "# Aplicar one hot encoding, especialmente para usarla en regresión logistica\n",
    "data_ohe = pd.get_dummies(df_resultado, drop_first=True)"
   ]
  },
  {
   "cell_type": "code",
   "execution_count": 25,
   "metadata": {},
   "outputs": [],
   "source": [
    "# SeparaR el target de los features\n",
    "target_ohe_esc=data_ohe['target']\n",
    "feaures_ohe_esc=data_ohe.drop('target', axis=1)\n",
    "\n",
    "features_train_ohe_esc, features_valid_ohe_esc, target_train_ohe_esc, target_valid_ohe_esc = train_test_split(\n",
    "    feaures_ohe_esc, target_ohe_esc, test_size=0.25, random_state=12345)\n"
   ]
  },
  {
   "cell_type": "code",
   "execution_count": 26,
   "metadata": {},
   "outputs": [],
   "source": [
    "# Crear funcion para hacer un upsample y arreglar el tema del desbalance de clases\n",
    "def upsample(features, target, repeat):\n",
    "    features_zeros = features[target == 0]\n",
    "    features_ones = features[target == 1]\n",
    "    target_zeros = target[target == 0]\n",
    "    target_ones = target[target == 1]\n",
    "\n",
    "    features_upsampled = pd.concat([features_ones] + [features_zeros] * repeat)\n",
    "    target_upsampled = pd.concat([target_ones] + [target_zeros] * repeat)\n",
    "\n",
    "    features_upsampled, target_upsampled = shuffle(\n",
    "        features_upsampled, target_upsampled, random_state=12345)\n",
    "\n",
    "    return features_upsampled, target_upsampled"
   ]
  },
  {
   "cell_type": "code",
   "execution_count": 27,
   "metadata": {},
   "outputs": [],
   "source": [
    "# Función para submuestreo\n",
    "def downsample(features, target, fraction):\n",
    "    features_zeros = features[target == 0]\n",
    "    features_ones = features[target == 1]\n",
    "    target_zeros = target[target == 0]\n",
    "    target_ones = target[target == 1]\n",
    "\n",
    "    features_downsampled = pd.concat([features_ones.sample(frac=fraction, random_state=777)]+ [features_zeros] )\n",
    "    target_downsampled = pd.concat([target_ones.sample(frac=fraction, random_state=777)]+ [target_zeros] )\n",
    "\n",
    "    features_downsampled, target_downsampled = shuffle(features_downsampled, target_downsampled, random_state=777 )\n",
    "\n",
    "    return features_downsampled, target_downsampled"
   ]
  },
  {
   "cell_type": "code",
   "execution_count": 28,
   "metadata": {
    "collapsed": true,
    "jupyter": {
     "outputs_hidden": true
    }
   },
   "outputs": [
    {
     "name": "stderr",
     "output_type": "stream",
     "text": [
      "/tmp/ipykernel_247/4104007953.py:5: SettingWithCopyWarning: \n",
      "A value is trying to be set on a copy of a slice from a DataFrame.\n",
      "Try using .loc[row_indexer,col_indexer] = value instead\n",
      "\n",
      "See the caveats in the documentation: https://pandas.pydata.org/pandas-docs/stable/user_guide/indexing.html#returning-a-view-versus-a-copy\n",
      "  features_train_ohe_esc[numeric] = scaler.transform(features_train_ohe_esc[numeric])\n",
      "/opt/conda/lib/python3.9/site-packages/pandas/core/indexing.py:1738: SettingWithCopyWarning: \n",
      "A value is trying to be set on a copy of a slice from a DataFrame.\n",
      "Try using .loc[row_indexer,col_indexer] = value instead\n",
      "\n",
      "See the caveats in the documentation: https://pandas.pydata.org/pandas-docs/stable/user_guide/indexing.html#returning-a-view-versus-a-copy\n",
      "  self._setitem_single_column(loc, value[:, i].tolist(), pi)\n",
      "/tmp/ipykernel_247/4104007953.py:6: SettingWithCopyWarning: \n",
      "A value is trying to be set on a copy of a slice from a DataFrame.\n",
      "Try using .loc[row_indexer,col_indexer] = value instead\n",
      "\n",
      "See the caveats in the documentation: https://pandas.pydata.org/pandas-docs/stable/user_guide/indexing.html#returning-a-view-versus-a-copy\n",
      "  features_valid_ohe_esc[numeric] = scaler.transform(features_valid_ohe_esc[numeric])\n",
      "/opt/conda/lib/python3.9/site-packages/pandas/core/indexing.py:1738: SettingWithCopyWarning: \n",
      "A value is trying to be set on a copy of a slice from a DataFrame.\n",
      "Try using .loc[row_indexer,col_indexer] = value instead\n",
      "\n",
      "See the caveats in the documentation: https://pandas.pydata.org/pandas-docs/stable/user_guide/indexing.html#returning-a-view-versus-a-copy\n",
      "  self._setitem_single_column(loc, value[:, i].tolist(), pi)\n"
     ]
    }
   ],
   "source": [
    "# aplicar primero el scaler y luego upsample\n",
    "\n",
    "scaler = StandardScaler()\n",
    "scaler.fit(features_train_ohe_esc[numeric])\n",
    "features_train_ohe_esc[numeric] = scaler.transform(features_train_ohe_esc[numeric])\n",
    "features_valid_ohe_esc[numeric] = scaler.transform(features_valid_ohe_esc[numeric])\n",
    "\n",
    "# el upsample solo se aplica al dataset de training\n",
    "features_upsampled, target_upsampled = upsample(features_train_ohe_esc, target_train_ohe_esc, 2)"
   ]
  },
  {
   "cell_type": "code",
   "execution_count": 29,
   "metadata": {},
   "outputs": [
    {
     "name": "stdout",
     "output_type": "stream",
     "text": [
      "F1: 0.8427929767251939\n",
      "AUC-ROC: 0.8439720912440021\n"
     ]
    }
   ],
   "source": [
    "# Defino un modelo usando Logistic Regression\n",
    "model1= LogisticRegression(random_state=12345 , solver='liblinear')\n",
    "model1.fit(features_upsampled, target_upsampled)\n",
    "\n",
    "# Realizo la predicción\n",
    "predicted_valid=model1.predict(features_valid_ohe_esc)\n",
    "\n",
    "# Obtener las probabilidades de las predicciones en el conjunto de validación\n",
    "predicted_valid_probs = model1.predict_proba(features_valid_ohe_esc)[:, 1] \n",
    "\n",
    "# Calcular el AUC-ROC\n",
    "auc_roc = roc_auc_score(target_valid_ohe_esc, predicted_valid_probs)\n",
    "\n",
    "\n",
    "print('F1:', f1_score(target_valid_ohe_esc, predicted_valid))\n",
    "print('AUC-ROC:', auc_roc)"
   ]
  },
  {
   "cell_type": "markdown",
   "metadata": {},
   "source": [
    "<!-- ### Arbol de decisión -->"
   ]
  },
  {
   "cell_type": "markdown",
   "metadata": {},
   "source": [
    "### ARBOL DE DECISIÓN"
   ]
  },
  {
   "cell_type": "markdown",
   "metadata": {},
   "source": [
    "#### Sin tratar desbalance de clases"
   ]
  },
  {
   "cell_type": "code",
   "execution_count": 30,
   "metadata": {},
   "outputs": [],
   "source": [
    "# Aplicar one hot encoding, \n",
    "data_ohe_td = pd.get_dummies(df_resultado, drop_first=True)\n",
    "\n",
    "# SeparaR el target de los features\n",
    "target_ohe_td=data_ohe_td['target']\n",
    "feaures_ohe_td=data_ohe_td.drop('target', axis=1)\n",
    "\n",
    "features_train_ohe_td, features_valid_ohe_td, target_train_ohe_td, target_valid_ohe_td = train_test_split(\n",
    "    feaures_ohe_td, target_ohe_td, test_size=0.25, random_state=12345)\n"
   ]
  },
  {
   "cell_type": "code",
   "execution_count": 31,
   "metadata": {},
   "outputs": [
    {
     "name": "stdout",
     "output_type": "stream",
     "text": [
      "max_depth: 5 ,precision:0.828, recall:0.891, f1:0.858 , roc:0.828\n"
     ]
    }
   ],
   "source": [
    "# Iterar para saber cual es la profundidad maxima que mejor resultado da \n",
    "# verificando el valor de f1 (porque esta desbalanceado)\n",
    "mejor_prof= 0\n",
    "mejor_precision=0\n",
    "mejor_recall=0\n",
    "mejor_f1=0\n",
    "mejor_roc=0\n",
    "\n",
    "for i in range (1,10):\n",
    "    model_td= DecisionTreeClassifier(random_state=12345, max_depth=i)\n",
    "    model_td.fit(features_train_ohe_td,target_train_ohe_td)\n",
    "    predictions1= model_td.predict(features_valid_ohe_td)\n",
    "    precision = precision_score(target_valid_ohe_td,predictions1)\n",
    "    recall = recall_score(target_valid_ohe_td,predictions1)\n",
    "    f1= f1_score(target_valid_ohe_td, predictions1)\n",
    "    # Obtener las probabilidades de las predicciones en el conjunto de validación\n",
    "    predicted_valid_probs = model_td.predict_proba(features_valid_ohe_td)[:, 1] \n",
    "    # Calcular el AUC-ROC\n",
    "    auc_roc = roc_auc_score(target_valid_ohe_td, predicted_valid_probs)\n",
    "    if auc_roc>mejor_roc:\n",
    "        mejor_f1=f1\n",
    "        mejor_precision=precision\n",
    "        mejor_recall=recall\n",
    "        mejor_prof= i\n",
    "        mejor_roc= auc_roc\n",
    "print('max_depth: {} ,precision:{:.3f}, recall:{:.3f}, f1:{:.3f} , roc:{:.3f}'.format(mejor_prof,mejor_precision,mejor_recall,mejor_f1,mejor_roc))"
   ]
  },
  {
   "cell_type": "markdown",
   "metadata": {},
   "source": [
    "#### Con tratamiento de desbalance de clases"
   ]
  },
  {
   "cell_type": "code",
   "execution_count": 32,
   "metadata": {},
   "outputs": [],
   "source": [
    "# el upsample solo se aplica al dataset de training\n",
    "features_upsampled, target_upsampled = upsample(features_train_ohe_td, target_train_ohe_td, 2)"
   ]
  },
  {
   "cell_type": "code",
   "execution_count": 33,
   "metadata": {},
   "outputs": [
    {
     "name": "stdout",
     "output_type": "stream",
     "text": [
      "max_depth: 1 ,precision:0.976, recall:0.320, f1:0.482, roc:0.778\n"
     ]
    }
   ],
   "source": [
    "# Iterar para saber cual es la profundidad maxima que mejor resultado da verificando el valor de f1 (porque esta desbalanceado)\n",
    "mejor_prof= 0\n",
    "mejor_precision=0\n",
    "mejor_recall=0\n",
    "mejor_f1=0\n",
    "mejor_roc=0\n",
    "\n",
    "for i in range (1,10):\n",
    "    model_td2= DecisionTreeClassifier(random_state=12345, max_depth=i)\n",
    "    model_td2.fit(features_upsampled,target_upsampled)\n",
    "    predictions1= model_td2.predict(features_valid_ohe_td)\n",
    "    precision = precision_score(target_valid_ohe_td,predictions1)\n",
    "    recall = recall_score(target_valid_ohe_td,predictions1)\n",
    "    f1= f1_score(target_valid_ohe_td, predictions1)\n",
    "    # Obtener las probabilidades de las predicciones en el conjunto de validación\n",
    "    predicted_valid_probs = model_td.predict_proba(features_valid_ohe_td)[:, 1] \n",
    "    # Calcular el AUC-ROC\n",
    "    auc_roc = roc_auc_score(target_valid_ohe_td, predicted_valid_probs)\n",
    "    if auc_roc>mejor_roc:\n",
    "        mejor_f1=f1\n",
    "        mejor_precision=precision\n",
    "        mejor_recall=recall\n",
    "        mejor_prof= i\n",
    "        mejor_roc=auc_roc\n",
    "print('max_depth: {} ,precision:{:.3f}, recall:{:.3f}, f1:{:.3f}, roc:{:.3f}'.format(mejor_prof,mejor_precision,mejor_recall,mejor_f1,mejor_roc))"
   ]
  },
  {
   "cell_type": "markdown",
   "metadata": {},
   "source": [
    "### RANDOM FOREST"
   ]
  },
  {
   "cell_type": "markdown",
   "metadata": {},
   "source": [
    "#### Sin tratar desbalance de clases"
   ]
  },
  {
   "cell_type": "code",
   "execution_count": 34,
   "metadata": {},
   "outputs": [
    {
     "name": "stdout",
     "output_type": "stream",
     "text": [
      "n_stimmators:40.000, max_depth:7.000,precision:0.823, recall:0.923, f1:0.87, roc:0.85\n"
     ]
    }
   ],
   "source": [
    "# Iterar para saber cual es la profundidad maxima que mejor resultado da para el f1\n",
    "mejor_f1= 0\n",
    "mejor_nestimadores=0\n",
    "mejor_prof=0\n",
    "mejor_precision=0\n",
    "mejor_recall=0\n",
    "mejor_roc=0\n",
    "\n",
    "for n in range(10,71,10):\n",
    "    for prof in range (5,10):\n",
    "        model_rd= RandomForestClassifier(random_state=777, n_estimators=n , max_depth= prof)\n",
    "        model_rd.fit(features_train_ohe_td,target_train_ohe_td)\n",
    "        predictions2= model_rd.predict(features_valid_ohe_td)\n",
    "        precision = precision_score(target_valid_ohe_td,predictions2)\n",
    "        recall = recall_score(target_valid_ohe_td,predictions2)\n",
    "        f1= f1_score(target_valid_ohe_td, predictions2)\n",
    "        # Obtener las probabilidades de las predicciones en el conjunto de validación\n",
    "        predicted_valid_probs = model_rd.predict_proba(features_valid_ohe_td)[:, 1] \n",
    "        # Calcular el AUC-ROC\n",
    "        auc_roc = roc_auc_score(target_valid_ohe_td, predicted_valid_probs)\n",
    "        if auc_roc > mejor_roc:\n",
    "            mejor_f1= f1\n",
    "            mejor_nestimadores=n\n",
    "            mejor_prof=prof\n",
    "            mejor_precision=precision\n",
    "            mejor_recall=recall\n",
    "            mejor_roc=auc_roc\n",
    "           \n",
    "print('n_stimmators:{:.3f}, max_depth:{:.3f},precision:{:.3f}, recall:{:.3f}, f1:{:.2f}, roc:{:.2f}'.format(mejor_nestimadores,mejor_prof,mejor_precision,mejor_recall,mejor_f1,mejor_roc))\n"
   ]
  },
  {
   "cell_type": "markdown",
   "metadata": {},
   "source": [
    "#### Con tratamiento de desbalance de clases"
   ]
  },
  {
   "cell_type": "code",
   "execution_count": 35,
   "metadata": {},
   "outputs": [
    {
     "name": "stdout",
     "output_type": "stream",
     "text": [
      "n_stimmators:50.000, max_depth:6.000,precision:0.893, recall:0.819, f1:0.85, roc:0.85\n"
     ]
    }
   ],
   "source": [
    "# Iterar para saber cual es la profundidad maxima que mejor resultado da para el f1\n",
    "mejor_f1= 0\n",
    "mejor_nestimadores=0\n",
    "mejor_prof=0\n",
    "mejor_precision=0\n",
    "mejor_recall=0\n",
    "mejor_roc=0\n",
    "\n",
    "for n in range(10,71,10):\n",
    "    for prof in range (3,10):\n",
    "        model_rd2= RandomForestClassifier(random_state=777, n_estimators=n , max_depth= prof)\n",
    "        model_rd2.fit(features_upsampled,target_upsampled)\n",
    "        predictions2= model_rd2.predict(features_valid_ohe_td)\n",
    "        precision = precision_score(target_valid_ohe_td,predictions2)\n",
    "        recall = recall_score(target_valid_ohe_td,predictions2)\n",
    "        f1= f1_score(target_valid_ohe_td, predictions2)\n",
    "        # Obtener las probabilidades de las predicciones en el conjunto de validación\n",
    "        predicted_valid_probs = model_rd2.predict_proba(features_valid_ohe_td)[:, 1] \n",
    "        # Calcular el AUC-ROC\n",
    "        auc_roc = roc_auc_score(target_valid_ohe_td, predicted_valid_probs)\n",
    "        if auc_roc > mejor_roc:\n",
    "            mejor_f1= f1\n",
    "            mejor_nestimadores=n\n",
    "            mejor_prof=prof\n",
    "            mejor_precision=precision\n",
    "            mejor_recall=recall\n",
    "            mejor_roc=auc_roc\n",
    "           \n",
    "print('n_stimmators:{:.3f}, max_depth:{:.3f},precision:{:.3f}, recall:{:.3f}, f1:{:.2f}, roc:{:.2f}'.format(mejor_nestimadores,mejor_prof,mejor_precision,mejor_recall,mejor_f1,mejor_roc))"
   ]
  },
  {
   "cell_type": "markdown",
   "metadata": {},
   "source": [
    "### XGBOOST"
   ]
  },
  {
   "cell_type": "code",
   "execution_count": 41,
   "metadata": {
    "scrolled": true
   },
   "outputs": [
    {
     "name": "stdout",
     "output_type": "stream",
     "text": [
      "Fitting 5 folds for each of 8 candidates, totalling 40 fits\n",
      "[CV 1/5; 1/8] START learning_rate=0.05, max_depth=3, n_estimators=300, objective=binary:logistic\n",
      "[CV 1/5; 1/8] END learning_rate=0.05, max_depth=3, n_estimators=300, objective=binary:logistic; total time=   3.3s\n",
      "[CV 2/5; 1/8] START learning_rate=0.05, max_depth=3, n_estimators=300, objective=binary:logistic\n",
      "[CV 2/5; 1/8] END learning_rate=0.05, max_depth=3, n_estimators=300, objective=binary:logistic; total time=   3.8s\n",
      "[CV 3/5; 1/8] START learning_rate=0.05, max_depth=3, n_estimators=300, objective=binary:logistic\n",
      "[CV 3/5; 1/8] END learning_rate=0.05, max_depth=3, n_estimators=300, objective=binary:logistic; total time=   3.4s\n",
      "[CV 4/5; 1/8] START learning_rate=0.05, max_depth=3, n_estimators=300, objective=binary:logistic\n",
      "[CV 4/5; 1/8] END learning_rate=0.05, max_depth=3, n_estimators=300, objective=binary:logistic; total time=   3.7s\n",
      "[CV 5/5; 1/8] START learning_rate=0.05, max_depth=3, n_estimators=300, objective=binary:logistic\n",
      "[CV 5/5; 1/8] END learning_rate=0.05, max_depth=3, n_estimators=300, objective=binary:logistic; total time=   4.0s\n",
      "[CV 1/5; 2/8] START learning_rate=0.05, max_depth=3, n_estimators=600, objective=binary:logistic\n",
      "[CV 1/5; 2/8] END learning_rate=0.05, max_depth=3, n_estimators=600, objective=binary:logistic; total time=   6.9s\n",
      "[CV 2/5; 2/8] START learning_rate=0.05, max_depth=3, n_estimators=600, objective=binary:logistic\n",
      "[CV 2/5; 2/8] END learning_rate=0.05, max_depth=3, n_estimators=600, objective=binary:logistic; total time=   7.2s\n",
      "[CV 3/5; 2/8] START learning_rate=0.05, max_depth=3, n_estimators=600, objective=binary:logistic\n",
      "[CV 3/5; 2/8] END learning_rate=0.05, max_depth=3, n_estimators=600, objective=binary:logistic; total time=   7.0s\n",
      "[CV 4/5; 2/8] START learning_rate=0.05, max_depth=3, n_estimators=600, objective=binary:logistic\n",
      "[CV 4/5; 2/8] END learning_rate=0.05, max_depth=3, n_estimators=600, objective=binary:logistic; total time=   6.9s\n",
      "[CV 5/5; 2/8] START learning_rate=0.05, max_depth=3, n_estimators=600, objective=binary:logistic\n",
      "[CV 5/5; 2/8] END learning_rate=0.05, max_depth=3, n_estimators=600, objective=binary:logistic; total time=   6.9s\n",
      "[CV 1/5; 3/8] START learning_rate=0.05, max_depth=6, n_estimators=300, objective=binary:logistic\n",
      "[CV 1/5; 3/8] END learning_rate=0.05, max_depth=6, n_estimators=300, objective=binary:logistic; total time=   6.2s\n",
      "[CV 2/5; 3/8] START learning_rate=0.05, max_depth=6, n_estimators=300, objective=binary:logistic\n",
      "[CV 2/5; 3/8] END learning_rate=0.05, max_depth=6, n_estimators=300, objective=binary:logistic; total time=   7.0s\n",
      "[CV 3/5; 3/8] START learning_rate=0.05, max_depth=6, n_estimators=300, objective=binary:logistic\n",
      "[CV 3/5; 3/8] END learning_rate=0.05, max_depth=6, n_estimators=300, objective=binary:logistic; total time=   5.0s\n",
      "[CV 4/5; 3/8] START learning_rate=0.05, max_depth=6, n_estimators=300, objective=binary:logistic\n",
      "[CV 4/5; 3/8] END learning_rate=0.05, max_depth=6, n_estimators=300, objective=binary:logistic; total time=   5.5s\n",
      "[CV 5/5; 3/8] START learning_rate=0.05, max_depth=6, n_estimators=300, objective=binary:logistic\n",
      "[CV 5/5; 3/8] END learning_rate=0.05, max_depth=6, n_estimators=300, objective=binary:logistic; total time=   5.4s\n",
      "[CV 1/5; 4/8] START learning_rate=0.05, max_depth=6, n_estimators=600, objective=binary:logistic\n",
      "[CV 1/5; 4/8] END learning_rate=0.05, max_depth=6, n_estimators=600, objective=binary:logistic; total time=  10.4s\n",
      "[CV 2/5; 4/8] START learning_rate=0.05, max_depth=6, n_estimators=600, objective=binary:logistic\n",
      "[CV 2/5; 4/8] END learning_rate=0.05, max_depth=6, n_estimators=600, objective=binary:logistic; total time=  11.5s\n",
      "[CV 3/5; 4/8] START learning_rate=0.05, max_depth=6, n_estimators=600, objective=binary:logistic\n",
      "[CV 3/5; 4/8] END learning_rate=0.05, max_depth=6, n_estimators=600, objective=binary:logistic; total time=  12.6s\n",
      "[CV 4/5; 4/8] START learning_rate=0.05, max_depth=6, n_estimators=600, objective=binary:logistic\n",
      "[CV 4/5; 4/8] END learning_rate=0.05, max_depth=6, n_estimators=600, objective=binary:logistic; total time=  10.9s\n",
      "[CV 5/5; 4/8] START learning_rate=0.05, max_depth=6, n_estimators=600, objective=binary:logistic\n",
      "[CV 5/5; 4/8] END learning_rate=0.05, max_depth=6, n_estimators=600, objective=binary:logistic; total time=  12.6s\n",
      "[CV 1/5; 5/8] START learning_rate=0.1, max_depth=3, n_estimators=300, objective=binary:logistic\n",
      "[CV 1/5; 5/8] END learning_rate=0.1, max_depth=3, n_estimators=300, objective=binary:logistic; total time=   4.5s\n",
      "[CV 2/5; 5/8] START learning_rate=0.1, max_depth=3, n_estimators=300, objective=binary:logistic\n",
      "[CV 2/5; 5/8] END learning_rate=0.1, max_depth=3, n_estimators=300, objective=binary:logistic; total time=   3.7s\n",
      "[CV 3/5; 5/8] START learning_rate=0.1, max_depth=3, n_estimators=300, objective=binary:logistic\n",
      "[CV 3/5; 5/8] END learning_rate=0.1, max_depth=3, n_estimators=300, objective=binary:logistic; total time=   3.4s\n",
      "[CV 4/5; 5/8] START learning_rate=0.1, max_depth=3, n_estimators=300, objective=binary:logistic\n",
      "[CV 4/5; 5/8] END learning_rate=0.1, max_depth=3, n_estimators=300, objective=binary:logistic; total time=   3.4s\n",
      "[CV 5/5; 5/8] START learning_rate=0.1, max_depth=3, n_estimators=300, objective=binary:logistic\n",
      "[CV 5/5; 5/8] END learning_rate=0.1, max_depth=3, n_estimators=300, objective=binary:logistic; total time=   5.1s\n",
      "[CV 1/5; 6/8] START learning_rate=0.1, max_depth=3, n_estimators=600, objective=binary:logistic\n",
      "[CV 1/5; 6/8] END learning_rate=0.1, max_depth=3, n_estimators=600, objective=binary:logistic; total time=   9.4s\n",
      "[CV 2/5; 6/8] START learning_rate=0.1, max_depth=3, n_estimators=600, objective=binary:logistic\n",
      "[CV 2/5; 6/8] END learning_rate=0.1, max_depth=3, n_estimators=600, objective=binary:logistic; total time=   8.2s\n",
      "[CV 3/5; 6/8] START learning_rate=0.1, max_depth=3, n_estimators=600, objective=binary:logistic\n",
      "[CV 3/5; 6/8] END learning_rate=0.1, max_depth=3, n_estimators=600, objective=binary:logistic; total time=   7.0s\n",
      "[CV 4/5; 6/8] START learning_rate=0.1, max_depth=3, n_estimators=600, objective=binary:logistic\n",
      "[CV 4/5; 6/8] END learning_rate=0.1, max_depth=3, n_estimators=600, objective=binary:logistic; total time=   7.6s\n",
      "[CV 5/5; 6/8] START learning_rate=0.1, max_depth=3, n_estimators=600, objective=binary:logistic\n",
      "[CV 5/5; 6/8] END learning_rate=0.1, max_depth=3, n_estimators=600, objective=binary:logistic; total time=  45.0s\n",
      "[CV 1/5; 7/8] START learning_rate=0.1, max_depth=6, n_estimators=300, objective=binary:logistic\n",
      "[CV 1/5; 7/8] END learning_rate=0.1, max_depth=6, n_estimators=300, objective=binary:logistic; total time=  52.6s\n",
      "[CV 2/5; 7/8] START learning_rate=0.1, max_depth=6, n_estimators=300, objective=binary:logistic\n",
      "[CV 2/5; 7/8] END learning_rate=0.1, max_depth=6, n_estimators=300, objective=binary:logistic; total time=  50.4s\n",
      "[CV 3/5; 7/8] START learning_rate=0.1, max_depth=6, n_estimators=300, objective=binary:logistic\n",
      "[CV 3/5; 7/8] END learning_rate=0.1, max_depth=6, n_estimators=300, objective=binary:logistic; total time=  49.0s\n",
      "[CV 4/5; 7/8] START learning_rate=0.1, max_depth=6, n_estimators=300, objective=binary:logistic\n",
      "[CV 4/5; 7/8] END learning_rate=0.1, max_depth=6, n_estimators=300, objective=binary:logistic; total time=  49.6s\n",
      "[CV 5/5; 7/8] START learning_rate=0.1, max_depth=6, n_estimators=300, objective=binary:logistic\n",
      "[CV 5/5; 7/8] END learning_rate=0.1, max_depth=6, n_estimators=300, objective=binary:logistic; total time=  51.6s\n",
      "[CV 1/5; 8/8] START learning_rate=0.1, max_depth=6, n_estimators=600, objective=binary:logistic\n",
      "[CV 1/5; 8/8] END learning_rate=0.1, max_depth=6, n_estimators=600, objective=binary:logistic; total time= 1.7min\n",
      "[CV 2/5; 8/8] START learning_rate=0.1, max_depth=6, n_estimators=600, objective=binary:logistic\n",
      "[CV 2/5; 8/8] END learning_rate=0.1, max_depth=6, n_estimators=600, objective=binary:logistic; total time= 1.7min\n",
      "[CV 3/5; 8/8] START learning_rate=0.1, max_depth=6, n_estimators=600, objective=binary:logistic\n",
      "[CV 3/5; 8/8] END learning_rate=0.1, max_depth=6, n_estimators=600, objective=binary:logistic; total time= 1.7min\n",
      "[CV 4/5; 8/8] START learning_rate=0.1, max_depth=6, n_estimators=600, objective=binary:logistic\n",
      "[CV 4/5; 8/8] END learning_rate=0.1, max_depth=6, n_estimators=600, objective=binary:logistic; total time= 1.7min\n",
      "[CV 5/5; 8/8] START learning_rate=0.1, max_depth=6, n_estimators=600, objective=binary:logistic\n"
     ]
    },
    {
     "name": "stdout",
     "output_type": "stream",
     "text": [
      "[CV 5/5; 8/8] END learning_rate=0.1, max_depth=6, n_estimators=600, objective=binary:logistic; total time= 1.6min\n",
      "Mejores hiperparámetros: {'learning_rate': 0.05, 'max_depth': 3, 'n_estimators': 300, 'objective': 'binary:logistic'}\n",
      "AUC-ROC en conjunto de validación: 0.8538066844630725\n"
     ]
    }
   ],
   "source": [
    "# Define el espacio de búsqueda de hiperparámetros\n",
    "param_grid = {\n",
    "    'objective': ['binary:logistic'],\n",
    "    'n_estimators': [300, 600],\n",
    "    'max_depth': [3, 6],\n",
    "    'learning_rate': [0.05, 0.1]\n",
    "}\n",
    "\n",
    "# Inicializa el clasificador XGBoost para clasificación binaria\n",
    "xgb_classifier = XGBClassifier(use_label_encoder=False,eval_metric='logloss')\n",
    "\n",
    "# Crea un objeto GridSearchCV con el modelo y el diccionario de hiperparámetros\n",
    "grid_search = GridSearchCV(estimator=xgb_classifier, param_grid=param_grid,\n",
    "                           scoring='roc_auc', cv=None, verbose=10)\n",
    "\n",
    "# Entrena el modelo\n",
    "grid_search.fit(features_train_ohe_td, target_train_ohe_td)\n",
    "\n",
    "# Obtiene los mejores hiperparámetros\n",
    "best_params = grid_search.best_params_\n",
    "best_xgb_classifier = grid_search.best_estimator_\n",
    "\n",
    "# Hacer predicciones en el conjunto de validación\n",
    "predicted_probs = best_xgb_classifier.predict_proba(features_valid_ohe_td)[:, 1]\n",
    "\n",
    "# Calcular el AUC-ROC en el conjunto de validación\n",
    "auc_roc = roc_auc_score(target_valid_ohe_td, predicted_probs)\n",
    "\n",
    "# Imprimir los mejores hiperparámetros y el AUC-ROC\n",
    "print(\"Mejores hiperparámetros:\", best_params)\n",
    "print(\"AUC-ROC en conjunto de validación:\", auc_roc)"
   ]
  },
  {
   "cell_type": "code",
   "execution_count": 49,
   "metadata": {
    "scrolled": true
   },
   "outputs": [
    {
     "name": "stdout",
     "output_type": "stream",
     "text": [
      "Fitting 5 folds for each of 8 candidates, totalling 40 fits\n",
      "[CV 1/5; 1/8] START learning_rate=0.01, max_depth=2, n_estimators=100, objective=binary:logistic\n",
      "[CV 1/5; 1/8] END learning_rate=0.01, max_depth=2, n_estimators=100, objective=binary:logistic; AUC-ROC: (test=0.646) total time=   0.9s\n",
      "[CV 2/5; 1/8] START learning_rate=0.01, max_depth=2, n_estimators=100, objective=binary:logistic\n",
      "[CV 2/5; 1/8] END learning_rate=0.01, max_depth=2, n_estimators=100, objective=binary:logistic; AUC-ROC: (test=0.650) total time=   1.4s\n",
      "[CV 3/5; 1/8] START learning_rate=0.01, max_depth=2, n_estimators=100, objective=binary:logistic\n",
      "[CV 3/5; 1/8] END learning_rate=0.01, max_depth=2, n_estimators=100, objective=binary:logistic; AUC-ROC: (test=0.625) total time=   1.0s\n",
      "[CV 4/5; 1/8] START learning_rate=0.01, max_depth=2, n_estimators=100, objective=binary:logistic\n",
      "[CV 4/5; 1/8] END learning_rate=0.01, max_depth=2, n_estimators=100, objective=binary:logistic; AUC-ROC: (test=0.652) total time=   1.0s\n",
      "[CV 5/5; 1/8] START learning_rate=0.01, max_depth=2, n_estimators=100, objective=binary:logistic\n",
      "[CV 5/5; 1/8] END learning_rate=0.01, max_depth=2, n_estimators=100, objective=binary:logistic; AUC-ROC: (test=0.621) total time=   1.1s\n",
      "[CV 1/5; 2/8] START learning_rate=0.01, max_depth=2, n_estimators=300, objective=binary:logistic\n",
      "[CV 1/5; 2/8] END learning_rate=0.01, max_depth=2, n_estimators=300, objective=binary:logistic; AUC-ROC: (test=0.679) total time=   2.8s\n",
      "[CV 2/5; 2/8] START learning_rate=0.01, max_depth=2, n_estimators=300, objective=binary:logistic\n",
      "[CV 2/5; 2/8] END learning_rate=0.01, max_depth=2, n_estimators=300, objective=binary:logistic; AUC-ROC: (test=0.676) total time=   2.9s\n",
      "[CV 3/5; 2/8] START learning_rate=0.01, max_depth=2, n_estimators=300, objective=binary:logistic\n",
      "[CV 3/5; 2/8] END learning_rate=0.01, max_depth=2, n_estimators=300, objective=binary:logistic; AUC-ROC: (test=0.670) total time=   3.3s\n",
      "[CV 4/5; 2/8] START learning_rate=0.01, max_depth=2, n_estimators=300, objective=binary:logistic\n",
      "[CV 4/5; 2/8] END learning_rate=0.01, max_depth=2, n_estimators=300, objective=binary:logistic; AUC-ROC: (test=0.677) total time=   3.1s\n",
      "[CV 5/5; 2/8] START learning_rate=0.01, max_depth=2, n_estimators=300, objective=binary:logistic\n",
      "[CV 5/5; 2/8] END learning_rate=0.01, max_depth=2, n_estimators=300, objective=binary:logistic; AUC-ROC: (test=0.680) total time=   2.8s\n",
      "[CV 1/5; 3/8] START learning_rate=0.01, max_depth=3, n_estimators=100, objective=binary:logistic\n",
      "[CV 1/5; 3/8] END learning_rate=0.01, max_depth=3, n_estimators=100, objective=binary:logistic; AUC-ROC: (test=0.641) total time=   1.4s\n",
      "[CV 2/5; 3/8] START learning_rate=0.01, max_depth=3, n_estimators=100, objective=binary:logistic\n",
      "[CV 2/5; 3/8] END learning_rate=0.01, max_depth=3, n_estimators=100, objective=binary:logistic; AUC-ROC: (test=0.669) total time=   1.3s\n",
      "[CV 3/5; 3/8] START learning_rate=0.01, max_depth=3, n_estimators=100, objective=binary:logistic\n",
      "[CV 3/5; 3/8] END learning_rate=0.01, max_depth=3, n_estimators=100, objective=binary:logistic; AUC-ROC: (test=0.669) total time=   1.2s\n",
      "[CV 4/5; 3/8] START learning_rate=0.01, max_depth=3, n_estimators=100, objective=binary:logistic\n",
      "[CV 4/5; 3/8] END learning_rate=0.01, max_depth=3, n_estimators=100, objective=binary:logistic; AUC-ROC: (test=0.637) total time=   1.2s\n",
      "[CV 5/5; 3/8] START learning_rate=0.01, max_depth=3, n_estimators=100, objective=binary:logistic\n",
      "[CV 5/5; 3/8] END learning_rate=0.01, max_depth=3, n_estimators=100, objective=binary:logistic; AUC-ROC: (test=0.659) total time=   1.2s\n",
      "[CV 1/5; 4/8] START learning_rate=0.01, max_depth=3, n_estimators=300, objective=binary:logistic\n",
      "[CV 1/5; 4/8] END learning_rate=0.01, max_depth=3, n_estimators=300, objective=binary:logistic; AUC-ROC: (test=0.693) total time=   3.5s\n",
      "[CV 2/5; 4/8] START learning_rate=0.01, max_depth=3, n_estimators=300, objective=binary:logistic\n",
      "[CV 2/5; 4/8] END learning_rate=0.01, max_depth=3, n_estimators=300, objective=binary:logistic; AUC-ROC: (test=0.685) total time=   4.5s\n",
      "[CV 3/5; 4/8] START learning_rate=0.01, max_depth=3, n_estimators=300, objective=binary:logistic\n",
      "[CV 3/5; 4/8] END learning_rate=0.01, max_depth=3, n_estimators=300, objective=binary:logistic; AUC-ROC: (test=0.674) total time=   3.5s\n",
      "[CV 4/5; 4/8] START learning_rate=0.01, max_depth=3, n_estimators=300, objective=binary:logistic\n",
      "[CV 4/5; 4/8] END learning_rate=0.01, max_depth=3, n_estimators=300, objective=binary:logistic; AUC-ROC: (test=0.686) total time=   3.5s\n",
      "[CV 5/5; 4/8] START learning_rate=0.01, max_depth=3, n_estimators=300, objective=binary:logistic\n",
      "[CV 5/5; 4/8] END learning_rate=0.01, max_depth=3, n_estimators=300, objective=binary:logistic; AUC-ROC: (test=0.696) total time=   3.7s\n",
      "[CV 1/5; 5/8] START learning_rate=0.05, max_depth=2, n_estimators=100, objective=binary:logistic\n",
      "[CV 1/5; 5/8] END learning_rate=0.05, max_depth=2, n_estimators=100, objective=binary:logistic; AUC-ROC: (test=0.692) total time=   1.0s\n",
      "[CV 2/5; 5/8] START learning_rate=0.05, max_depth=2, n_estimators=100, objective=binary:logistic\n",
      "[CV 2/5; 5/8] END learning_rate=0.05, max_depth=2, n_estimators=100, objective=binary:logistic; AUC-ROC: (test=0.681) total time=   1.0s\n",
      "[CV 3/5; 5/8] START learning_rate=0.05, max_depth=2, n_estimators=100, objective=binary:logistic\n",
      "[CV 3/5; 5/8] END learning_rate=0.05, max_depth=2, n_estimators=100, objective=binary:logistic; AUC-ROC: (test=0.681) total time=   1.0s\n",
      "[CV 4/5; 5/8] START learning_rate=0.05, max_depth=2, n_estimators=100, objective=binary:logistic\n",
      "[CV 4/5; 5/8] END learning_rate=0.05, max_depth=2, n_estimators=100, objective=binary:logistic; AUC-ROC: (test=0.692) total time=   1.0s\n",
      "[CV 5/5; 5/8] START learning_rate=0.05, max_depth=2, n_estimators=100, objective=binary:logistic\n",
      "[CV 5/5; 5/8] END learning_rate=0.05, max_depth=2, n_estimators=100, objective=binary:logistic; AUC-ROC: (test=0.685) total time=   1.0s\n",
      "[CV 1/5; 6/8] START learning_rate=0.05, max_depth=2, n_estimators=300, objective=binary:logistic\n",
      "[CV 1/5; 6/8] END learning_rate=0.05, max_depth=2, n_estimators=300, objective=binary:logistic; AUC-ROC: (test=0.701) total time=   3.8s\n",
      "[CV 2/5; 6/8] START learning_rate=0.05, max_depth=2, n_estimators=300, objective=binary:logistic\n",
      "[CV 2/5; 6/8] END learning_rate=0.05, max_depth=2, n_estimators=300, objective=binary:logistic; AUC-ROC: (test=0.701) total time=   2.9s\n",
      "[CV 3/5; 6/8] START learning_rate=0.05, max_depth=2, n_estimators=300, objective=binary:logistic\n",
      "[CV 3/5; 6/8] END learning_rate=0.05, max_depth=2, n_estimators=300, objective=binary:logistic; AUC-ROC: (test=0.710) total time=   2.7s\n",
      "[CV 4/5; 6/8] START learning_rate=0.05, max_depth=2, n_estimators=300, objective=binary:logistic\n",
      "[CV 4/5; 6/8] END learning_rate=0.05, max_depth=2, n_estimators=300, objective=binary:logistic; AUC-ROC: (test=0.709) total time=   3.2s\n",
      "[CV 5/5; 6/8] START learning_rate=0.05, max_depth=2, n_estimators=300, objective=binary:logistic\n",
      "[CV 5/5; 6/8] END learning_rate=0.05, max_depth=2, n_estimators=300, objective=binary:logistic; AUC-ROC: (test=0.727) total time=   2.9s\n",
      "[CV 1/5; 7/8] START learning_rate=0.05, max_depth=3, n_estimators=100, objective=binary:logistic\n",
      "[CV 1/5; 7/8] END learning_rate=0.05, max_depth=3, n_estimators=100, objective=binary:logistic; AUC-ROC: (test=0.691) total time=   1.2s\n",
      "[CV 2/5; 7/8] START learning_rate=0.05, max_depth=3, n_estimators=100, objective=binary:logistic\n",
      "[CV 2/5; 7/8] END learning_rate=0.05, max_depth=3, n_estimators=100, objective=binary:logistic; AUC-ROC: (test=0.697) total time=   1.1s\n",
      "[CV 3/5; 7/8] START learning_rate=0.05, max_depth=3, n_estimators=100, objective=binary:logistic\n",
      "[CV 3/5; 7/8] END learning_rate=0.05, max_depth=3, n_estimators=100, objective=binary:logistic; AUC-ROC: (test=0.709) total time=   1.2s\n",
      "[CV 4/5; 7/8] START learning_rate=0.05, max_depth=3, n_estimators=100, objective=binary:logistic\n",
      "[CV 4/5; 7/8] END learning_rate=0.05, max_depth=3, n_estimators=100, objective=binary:logistic; AUC-ROC: (test=0.716) total time=   1.2s\n",
      "[CV 5/5; 7/8] START learning_rate=0.05, max_depth=3, n_estimators=100, objective=binary:logistic\n",
      "[CV 5/5; 7/8] END learning_rate=0.05, max_depth=3, n_estimators=100, objective=binary:logistic; AUC-ROC: (test=0.705) total time=   1.6s\n",
      "[CV 1/5; 8/8] START learning_rate=0.05, max_depth=3, n_estimators=300, objective=binary:logistic\n"
     ]
    },
    {
     "name": "stdout",
     "output_type": "stream",
     "text": [
      "[CV 1/5; 8/8] END learning_rate=0.05, max_depth=3, n_estimators=300, objective=binary:logistic; AUC-ROC: (test=0.692) total time=   3.6s\n",
      "[CV 2/5; 8/8] START learning_rate=0.05, max_depth=3, n_estimators=300, objective=binary:logistic\n",
      "[CV 2/5; 8/8] END learning_rate=0.05, max_depth=3, n_estimators=300, objective=binary:logistic; AUC-ROC: (test=0.702) total time=   3.3s\n",
      "[CV 3/5; 8/8] START learning_rate=0.05, max_depth=3, n_estimators=300, objective=binary:logistic\n",
      "[CV 3/5; 8/8] END learning_rate=0.05, max_depth=3, n_estimators=300, objective=binary:logistic; AUC-ROC: (test=0.713) total time=   3.7s\n",
      "[CV 4/5; 8/8] START learning_rate=0.05, max_depth=3, n_estimators=300, objective=binary:logistic\n",
      "[CV 4/5; 8/8] END learning_rate=0.05, max_depth=3, n_estimators=300, objective=binary:logistic; AUC-ROC: (test=0.714) total time=   3.6s\n",
      "[CV 5/5; 8/8] START learning_rate=0.05, max_depth=3, n_estimators=300, objective=binary:logistic\n",
      "[CV 5/5; 8/8] END learning_rate=0.05, max_depth=3, n_estimators=300, objective=binary:logistic; AUC-ROC: (test=0.717) total time=   3.3s\n",
      "Mejores hiperparámetros: {'learning_rate': 0.05, 'max_depth': 2, 'n_estimators': 300, 'objective': 'binary:logistic'}\n",
      "AUC-ROC en conjunto de validación: 0.8562150204991309\n"
     ]
    }
   ],
   "source": [
    "# Define el espacio de búsqueda de hiperparámetros\n",
    "param_grid = {\n",
    "    'objective': ['binary:logistic'],\n",
    "    'n_estimators': [100, 300],\n",
    "    'max_depth': [2, 3],\n",
    "    'learning_rate': [0.01, 0.05]\n",
    "}\n",
    "\n",
    "auc_roc_scorer = make_scorer(roc_auc_score, greater_is_better=True)\n",
    "\n",
    "# Inicializa el clasificador XGBoost para clasificación binaria\n",
    "xgb_classifier = XGBClassifier(use_label_encoder=False,eval_metric='logloss')\n",
    "\n",
    "# Crea un objeto GridSearchCV con el modelo y el diccionario de hiperparámetros\n",
    "grid_search = GridSearchCV(estimator=xgb_classifier, param_grid=param_grid,\n",
    "                            scoring={'AUC-ROC': auc_roc_scorer}, refit='AUC-ROC', cv=None, verbose=10)\n",
    "\n",
    "# Entrena el modelo\n",
    "grid_search.fit(features_train_ohe_td, target_train_ohe_td)\n",
    "\n",
    "# Obtiene los mejores hiperparámetros\n",
    "best_params = grid_search.best_params_\n",
    "best_xgb_classifier = grid_search.best_estimator_\n",
    "\n",
    "# Hacer predicciones en el conjunto de validación\n",
    "predicted_probs = best_xgb_classifier.predict_proba(features_valid_ohe_td)[:, 1]\n",
    "\n",
    "# Calcular el AUC-ROC en el conjunto de validación\n",
    "auc_roc = roc_auc_score(target_valid_ohe_td, predicted_probs)\n",
    "\n",
    "# Imprimir los mejores hiperparámetros y el AUC-ROC\n",
    "print(\"Mejores hiperparámetros:\", best_params)\n",
    "print(\"AUC-ROC en conjunto de validación:\", auc_roc)"
   ]
  },
  {
   "cell_type": "markdown",
   "metadata": {},
   "source": [
    "### Cat Boost"
   ]
  },
  {
   "cell_type": "code",
   "execution_count": 53,
   "metadata": {},
   "outputs": [],
   "source": [
    "# SeparaR el target de los features\n",
    "target=df_resultado['target']\n",
    "features=df_resultado.drop('target', axis=1)\n",
    "\n",
    "features_train, features_valid, target_train, target_valid = train_test_split(\n",
    "    features, target, test_size=0.25, random_state=12345)"
   ]
  },
  {
   "cell_type": "code",
   "execution_count": 55,
   "metadata": {
    "scrolled": true
   },
   "outputs": [
    {
     "name": "stdout",
     "output_type": "stream",
     "text": [
      "0:\tlearn: 0.6767061\ttotal: 49.8ms\tremaining: 7.42s\n",
      "149:\tlearn: 0.4084801\ttotal: 309ms\tremaining: 0us\n",
      "0:\tlearn: 0.6763197\ttotal: 2.06ms\tremaining: 307ms\n",
      "149:\tlearn: 0.4053292\ttotal: 265ms\tremaining: 0us\n",
      "0:\tlearn: 0.6767158\ttotal: 2.45ms\tremaining: 365ms\n",
      "149:\tlearn: 0.4114850\ttotal: 278ms\tremaining: 0us\n",
      "0:\tlearn: 0.6768791\ttotal: 2.09ms\tremaining: 311ms\n",
      "149:\tlearn: 0.4161341\ttotal: 267ms\tremaining: 0us\n",
      "0:\tlearn: 0.6770944\ttotal: 2.83ms\tremaining: 422ms\n",
      "149:\tlearn: 0.4139926\ttotal: 313ms\tremaining: 0us\n",
      "0:\tlearn: 0.6323261\ttotal: 2.47ms\tremaining: 369ms\n",
      "149:\tlearn: 0.3926112\ttotal: 296ms\tremaining: 0us\n",
      "0:\tlearn: 0.6308935\ttotal: 2.1ms\tremaining: 314ms\n",
      "149:\tlearn: 0.3878775\ttotal: 266ms\tremaining: 0us\n",
      "0:\tlearn: 0.6323616\ttotal: 2.53ms\tremaining: 377ms\n",
      "149:\tlearn: 0.3925181\ttotal: 303ms\tremaining: 0us\n",
      "0:\tlearn: 0.6329467\ttotal: 2.07ms\tremaining: 308ms\n",
      "149:\tlearn: 0.4007755\ttotal: 277ms\tremaining: 0us\n",
      "0:\tlearn: 0.6337595\ttotal: 2.05ms\tremaining: 306ms\n",
      "149:\tlearn: 0.3972774\ttotal: 270ms\tremaining: 0us\n",
      "0:\tlearn: 0.6732247\ttotal: 5.86ms\tremaining: 2.34s\n",
      "200:\tlearn: 0.3985434\ttotal: 952ms\tremaining: 943ms\n",
      "399:\tlearn: 0.3857737\ttotal: 1.8s\tremaining: 0us\n",
      "0:\tlearn: 0.6733253\ttotal: 4.89ms\tremaining: 1.95s\n",
      "200:\tlearn: 0.3967016\ttotal: 892ms\tremaining: 884ms\n",
      "399:\tlearn: 0.3833629\ttotal: 1.78s\tremaining: 0us\n",
      "0:\tlearn: 0.6740316\ttotal: 5.11ms\tremaining: 2.04s\n",
      "200:\tlearn: 0.4013019\ttotal: 869ms\tremaining: 860ms\n",
      "399:\tlearn: 0.3858630\ttotal: 1.73s\tremaining: 0us\n",
      "0:\tlearn: 0.6737978\ttotal: 4.88ms\tremaining: 1.95s\n",
      "200:\tlearn: 0.4058725\ttotal: 864ms\tremaining: 855ms\n",
      "399:\tlearn: 0.3900415\ttotal: 1.73s\tremaining: 0us\n",
      "0:\tlearn: 0.6714666\ttotal: 4.8ms\tremaining: 1.92s\n",
      "200:\tlearn: 0.4045533\ttotal: 845ms\tremaining: 837ms\n",
      "399:\tlearn: 0.3905599\ttotal: 1.71s\tremaining: 0us\n",
      "0:\tlearn: 0.6211979\ttotal: 4.79ms\tremaining: 1.91s\n",
      "200:\tlearn: 0.3656654\ttotal: 893ms\tremaining: 884ms\n",
      "399:\tlearn: 0.3366471\ttotal: 1.81s\tremaining: 0us\n",
      "0:\tlearn: 0.6215180\ttotal: 5.79ms\tremaining: 2.31s\n",
      "200:\tlearn: 0.3622004\ttotal: 898ms\tremaining: 889ms\n",
      "399:\tlearn: 0.3346191\ttotal: 1.81s\tremaining: 0us\n",
      "0:\tlearn: 0.6239833\ttotal: 6.01ms\tremaining: 2.4s\n",
      "200:\tlearn: 0.3662711\ttotal: 926ms\tremaining: 917ms\n",
      "399:\tlearn: 0.3376171\ttotal: 1.84s\tremaining: 0us\n",
      "0:\tlearn: 0.6231673\ttotal: 4.85ms\tremaining: 1.93s\n",
      "200:\tlearn: 0.3708285\ttotal: 883ms\tremaining: 874ms\n",
      "399:\tlearn: 0.3405623\ttotal: 1.81s\tremaining: 0us\n",
      "0:\tlearn: 0.6152735\ttotal: 4.86ms\tremaining: 1.94s\n",
      "200:\tlearn: 0.3701459\ttotal: 878ms\tremaining: 869ms\n",
      "399:\tlearn: 0.3405524\ttotal: 1.79s\tremaining: 0us\n",
      "0:\tlearn: 0.6750355\ttotal: 5.74ms\tremaining: 856ms\n",
      "149:\tlearn: 0.3929844\ttotal: 618ms\tremaining: 0us\n",
      "0:\tlearn: 0.6748710\ttotal: 4.68ms\tremaining: 698ms\n",
      "149:\tlearn: 0.3885506\ttotal: 605ms\tremaining: 0us\n",
      "0:\tlearn: 0.6755090\ttotal: 5.1ms\tremaining: 760ms\n",
      "149:\tlearn: 0.3935732\ttotal: 644ms\tremaining: 0us\n",
      "0:\tlearn: 0.6758520\ttotal: 4.45ms\tremaining: 663ms\n",
      "149:\tlearn: 0.4001596\ttotal: 620ms\tremaining: 0us\n",
      "0:\tlearn: 0.6754279\ttotal: 4.84ms\tremaining: 721ms\n",
      "149:\tlearn: 0.3958197\ttotal: 609ms\tremaining: 0us\n",
      "0:\tlearn: 0.6259501\ttotal: 5.17ms\tremaining: 771ms\n",
      "149:\tlearn: 0.3632761\ttotal: 615ms\tremaining: 0us\n",
      "0:\tlearn: 0.6253340\ttotal: 5.2ms\tremaining: 775ms\n",
      "149:\tlearn: 0.3608732\ttotal: 615ms\tremaining: 0us\n",
      "0:\tlearn: 0.6277997\ttotal: 4.11ms\tremaining: 612ms\n",
      "149:\tlearn: 0.3574160\ttotal: 632ms\tremaining: 0us\n",
      "0:\tlearn: 0.6290703\ttotal: 4.89ms\tremaining: 729ms\n",
      "149:\tlearn: 0.3586869\ttotal: 629ms\tremaining: 0us\n",
      "0:\tlearn: 0.6273487\ttotal: 4.86ms\tremaining: 724ms\n",
      "149:\tlearn: 0.3650343\ttotal: 631ms\tremaining: 0us\n",
      "0:\tlearn: 0.6635836\ttotal: 7.36ms\tremaining: 2.94s\n",
      "200:\tlearn: 0.3664861\ttotal: 1.48s\tremaining: 1.47s\n",
      "399:\tlearn: 0.3235906\ttotal: 3.15s\tremaining: 0us\n",
      "0:\tlearn: 0.6630320\ttotal: 7.86ms\tremaining: 3.13s\n",
      "200:\tlearn: 0.3615681\ttotal: 1.49s\tremaining: 1.48s\n",
      "399:\tlearn: 0.3184990\ttotal: 3.14s\tremaining: 0us\n",
      "0:\tlearn: 0.6632249\ttotal: 7.32ms\tremaining: 2.92s\n",
      "200:\tlearn: 0.3679009\ttotal: 1.48s\tremaining: 1.47s\n",
      "399:\tlearn: 0.3276015\ttotal: 3.07s\tremaining: 0us\n",
      "0:\tlearn: 0.6628713\ttotal: 7.56ms\tremaining: 3.02s\n",
      "200:\tlearn: 0.3703399\ttotal: 1.45s\tremaining: 1.44s\n",
      "399:\tlearn: 0.3224261\ttotal: 3.06s\tremaining: 0us\n",
      "0:\tlearn: 0.6617413\ttotal: 9.61ms\tremaining: 3.83s\n",
      "200:\tlearn: 0.3666395\ttotal: 1.51s\tremaining: 1.5s\n",
      "399:\tlearn: 0.3216223\ttotal: 3.15s\tremaining: 0us\n",
      "0:\tlearn: 0.5895826\ttotal: 7.43ms\tremaining: 2.97s\n",
      "200:\tlearn: 0.2599271\ttotal: 1.76s\tremaining: 1.75s\n",
      "399:\tlearn: 0.1786058\ttotal: 3.48s\tremaining: 0us\n",
      "0:\tlearn: 0.5879385\ttotal: 7.75ms\tremaining: 3.09s\n",
      "200:\tlearn: 0.2585567\ttotal: 1.61s\tremaining: 1.6s\n",
      "399:\tlearn: 0.1706449\ttotal: 3.33s\tremaining: 0us\n",
      "0:\tlearn: 0.5888445\ttotal: 7.57ms\tremaining: 3.02s\n",
      "200:\tlearn: 0.2582932\ttotal: 1.61s\tremaining: 1.6s\n",
      "399:\tlearn: 0.1759648\ttotal: 3.3s\tremaining: 0us\n",
      "0:\tlearn: 0.5880092\ttotal: 7.42ms\tremaining: 2.96s\n",
      "200:\tlearn: 0.2661311\ttotal: 1.62s\tremaining: 1.6s\n",
      "399:\tlearn: 0.1808635\ttotal: 3.31s\tremaining: 0us\n",
      "0:\tlearn: 0.5836234\ttotal: 9.54ms\tremaining: 3.8s\n",
      "200:\tlearn: 0.2602964\ttotal: 1.64s\tremaining: 1.62s\n",
      "399:\tlearn: 0.1766954\ttotal: 3.38s\tremaining: 0us\n",
      "0:\tlearn: 0.6750784\ttotal: 9.63ms\tremaining: 1.43s\n",
      "149:\tlearn: 0.3741807\ttotal: 1.05s\tremaining: 0us\n",
      "0:\tlearn: 0.6749222\ttotal: 10.3ms\tremaining: 1.53s\n",
      "149:\tlearn: 0.3732325\ttotal: 1.08s\tremaining: 0us\n",
      "0:\tlearn: 0.6755090\ttotal: 4.59ms\tremaining: 685ms\n",
      "149:\tlearn: 0.3795164\ttotal: 1.25s\tremaining: 0us\n",
      "0:\tlearn: 0.6758520\ttotal: 4.41ms\tremaining: 656ms\n",
      "149:\tlearn: 0.3839026\ttotal: 1.11s\tremaining: 0us\n",
      "0:\tlearn: 0.6764379\ttotal: 9.45ms\tremaining: 1.41s\n",
      "149:\tlearn: 0.3828873\ttotal: 1.06s\tremaining: 0us\n",
      "0:\tlearn: 0.6259173\ttotal: 8.4ms\tremaining: 1.25s\n",
      "149:\tlearn: 0.3347504\ttotal: 1.21s\tremaining: 0us\n",
      "0:\tlearn: 0.6253362\ttotal: 8.64ms\tremaining: 1.29s\n",
      "149:\tlearn: 0.3229116\ttotal: 1.19s\tremaining: 0us\n",
      "0:\tlearn: 0.6277997\ttotal: 4.63ms\tremaining: 690ms\n",
      "149:\tlearn: 0.3183333\ttotal: 1.31s\tremaining: 0us\n",
      "0:\tlearn: 0.6290703\ttotal: 4.56ms\tremaining: 679ms\n",
      "149:\tlearn: 0.3269114\ttotal: 1.23s\tremaining: 0us\n",
      "0:\tlearn: 0.6307218\ttotal: 9.64ms\tremaining: 1.44s\n",
      "149:\tlearn: 0.3325964\ttotal: 1.94s\tremaining: 0us\n",
      "0:\tlearn: 0.6635836\ttotal: 7.44ms\tremaining: 2.97s\n",
      "200:\tlearn: 0.3263769\ttotal: 2.6s\tremaining: 2.57s\n",
      "399:\tlearn: 0.2531228\ttotal: 5.75s\tremaining: 0us\n",
      "0:\tlearn: 0.6630320\ttotal: 7.59ms\tremaining: 3.03s\n",
      "200:\tlearn: 0.3156938\ttotal: 2.66s\tremaining: 2.63s\n",
      "399:\tlearn: 0.2470935\ttotal: 5.85s\tremaining: 0us\n",
      "0:\tlearn: 0.6632249\ttotal: 7.35ms\tremaining: 2.93s\n",
      "200:\tlearn: 0.3253014\ttotal: 2.69s\tremaining: 2.66s\n",
      "399:\tlearn: 0.2536941\ttotal: 5.92s\tremaining: 0us\n",
      "0:\tlearn: 0.6628713\ttotal: 7.53ms\tremaining: 3s\n",
      "200:\tlearn: 0.3249489\ttotal: 2.68s\tremaining: 2.65s\n",
      "399:\tlearn: 0.2536957\ttotal: 5.83s\tremaining: 0us\n",
      "0:\tlearn: 0.6618186\ttotal: 16ms\tremaining: 6.39s\n",
      "200:\tlearn: 0.3207515\ttotal: 2.75s\tremaining: 2.72s\n",
      "399:\tlearn: 0.2505091\ttotal: 6.03s\tremaining: 0us\n",
      "0:\tlearn: 0.5895826\ttotal: 7.36ms\tremaining: 2.94s\n",
      "200:\tlearn: 0.1676734\ttotal: 3.04s\tremaining: 3.01s\n",
      "399:\tlearn: 0.0898653\ttotal: 6.39s\tremaining: 0us\n",
      "0:\tlearn: 0.5879385\ttotal: 7.57ms\tremaining: 3.02s\n",
      "200:\tlearn: 0.1572666\ttotal: 3.21s\tremaining: 3.18s\n",
      "399:\tlearn: 0.0813964\ttotal: 6.51s\tremaining: 0us\n",
      "0:\tlearn: 0.5888445\ttotal: 7.69ms\tremaining: 3.07s\n",
      "200:\tlearn: 0.1681255\ttotal: 3.14s\tremaining: 3.11s\n",
      "399:\tlearn: 0.0876341\ttotal: 6.44s\tremaining: 0us\n",
      "0:\tlearn: 0.5880092\ttotal: 9.66ms\tremaining: 3.85s\n",
      "200:\tlearn: 0.1654611\ttotal: 3.08s\tremaining: 3.05s\n",
      "399:\tlearn: 0.0874977\ttotal: 6.42s\tremaining: 0us\n",
      "0:\tlearn: 0.5837893\ttotal: 16.3ms\tremaining: 6.51s\n",
      "200:\tlearn: 0.1557376\ttotal: 3.26s\tremaining: 3.22s\n",
      "399:\tlearn: 0.0815471\ttotal: 6.73s\tremaining: 0us\n",
      "0:\tlearn: 0.6706779\ttotal: 6.55ms\tremaining: 2.61s\n",
      "200:\tlearn: 0.4019273\ttotal: 1.08s\tremaining: 1.06s\n",
      "399:\tlearn: 0.3887602\ttotal: 2.21s\tremaining: 0us\n",
      "Mejores hiperparámetros: {'depth': 3, 'iterations': 400, 'learning_rate': 0.05}\n"
     ]
    }
   ],
   "source": [
    "# Define un diccionario de hiperparámetros que deseas ajustar\n",
    "param_grid = {\n",
    "    'iterations': [150,400],  # Número de iteraciones (árboles)\n",
    "    'depth': [3,6,8],  # Profundidad máxima de los árboles\n",
    "    'learning_rate': [0.05,0.2],  # Tasa de aprendizaje\n",
    "}\n",
    "\n",
    "# Crea un modelo de CatBoostRegressor\n",
    "catboost = CatBoostClassifier(loss_function='Logloss', random_seed=12345,\n",
    "                              cat_features=categoricas, early_stopping_rounds=30, verbose=200)  \n",
    "\n",
    "# Crea un objeto GridSearchCV con el modelo y el diccionario de hiperparámetros\n",
    "grid_search2 = GridSearchCV(estimator=catboost, param_grid=param_grid, scoring='roc_auc', cv=None)  \n",
    "\n",
    "\n",
    "# Ajusta el modelo a tus datos de entrenamiento\n",
    "grid_search2.fit(features_train, target_train)\n",
    "\n",
    "# Imprime los mejores hiperparámetros encontrados\n",
    "print(\"Mejores hiperparámetros:\", grid_search2.best_params_)\n",
    "\n",
    "# Obtén el mejor modelo entrenado\n",
    "best_catboost_model = grid_search2.best_estimator_"
   ]
  },
  {
   "cell_type": "code",
   "execution_count": 56,
   "metadata": {},
   "outputs": [
    {
     "name": "stdout",
     "output_type": "stream",
     "text": [
      "0.8570408069921578\n"
     ]
    }
   ],
   "source": [
    "# Hacer predicciones en el conjunto de validación\n",
    "predicted_probs = best_catboost_model.predict_proba(features_valid)[:, 1]\n",
    "\n",
    "# Calcular el AUC-ROC en el conjunto de validación\n",
    "auc_roc = roc_auc_score(target_valid, predicted_probs)\n",
    "print('auc_roc:',auc_roc)"
   ]
  },
  {
   "cell_type": "code",
   "execution_count": 58,
   "metadata": {},
   "outputs": [
    {
     "name": "stdout",
     "output_type": "stream",
     "text": [
      "Fitting 5 folds for each of 8 candidates, totalling 40 fits\n",
      "[CV 1/5; 1/8] START depth=6, iterations=600, learning_rate=0.005................\n",
      "0:\tlearn: 0.6900785\ttotal: 7.39ms\tremaining: 4.42s\n",
      "200:\tlearn: 0.4475571\ttotal: 1.44s\tremaining: 2.85s\n",
      "400:\tlearn: 0.4119573\ttotal: 2.9s\tremaining: 1.44s\n",
      "599:\tlearn: 0.3986676\ttotal: 4.35s\tremaining: 0us\n",
      "[CV 1/5; 1/8] END depth=6, iterations=600, learning_rate=0.005; AUC-ROC: (test=0.699) total time=   4.6s\n",
      "[CV 2/5; 1/8] START depth=6, iterations=600, learning_rate=0.005................\n",
      "0:\tlearn: 0.6900189\ttotal: 7.68ms\tremaining: 4.6s\n",
      "200:\tlearn: 0.4462059\ttotal: 1.44s\tremaining: 2.86s\n",
      "400:\tlearn: 0.4103617\ttotal: 2.91s\tremaining: 1.44s\n",
      "599:\tlearn: 0.3961152\ttotal: 4.5s\tremaining: 0us\n",
      "[CV 2/5; 1/8] END depth=6, iterations=600, learning_rate=0.005; AUC-ROC: (test=0.707) total time=   4.7s\n",
      "[CV 3/5; 1/8] START depth=6, iterations=600, learning_rate=0.005................\n",
      "0:\tlearn: 0.6900370\ttotal: 7.71ms\tremaining: 4.62s\n",
      "200:\tlearn: 0.4499545\ttotal: 1.49s\tremaining: 2.96s\n",
      "400:\tlearn: 0.4149486\ttotal: 2.99s\tremaining: 1.48s\n",
      "599:\tlearn: 0.4024269\ttotal: 4.47s\tremaining: 0us\n",
      "[CV 3/5; 1/8] END depth=6, iterations=600, learning_rate=0.005; AUC-ROC: (test=0.711) total time=   4.7s\n",
      "[CV 4/5; 1/8] START depth=6, iterations=600, learning_rate=0.005................\n",
      "0:\tlearn: 0.6899968\ttotal: 7.6ms\tremaining: 4.55s\n",
      "200:\tlearn: 0.4541329\ttotal: 1.45s\tremaining: 2.87s\n",
      "400:\tlearn: 0.4191873\ttotal: 2.92s\tremaining: 1.45s\n",
      "599:\tlearn: 0.4066806\ttotal: 4.4s\tremaining: 0us\n",
      "[CV 4/5; 1/8] END depth=6, iterations=600, learning_rate=0.005; AUC-ROC: (test=0.711) total time=   4.6s\n",
      "[CV 5/5; 1/8] START depth=6, iterations=600, learning_rate=0.005................\n",
      "0:\tlearn: 0.6898830\ttotal: 10.8ms\tremaining: 6.48s\n",
      "200:\tlearn: 0.4545280\ttotal: 1.41s\tremaining: 2.81s\n",
      "400:\tlearn: 0.4193117\ttotal: 2.89s\tremaining: 1.43s\n",
      "599:\tlearn: 0.4060480\ttotal: 4.34s\tremaining: 0us\n",
      "[CV 5/5; 1/8] END depth=6, iterations=600, learning_rate=0.005; AUC-ROC: (test=0.697) total time=   4.5s\n",
      "[CV 1/5; 2/8] START depth=6, iterations=600, learning_rate=0.01.................\n",
      "0:\tlearn: 0.6870349\ttotal: 7.48ms\tremaining: 4.48s\n",
      "200:\tlearn: 0.4109297\ttotal: 1.46s\tremaining: 2.9s\n",
      "400:\tlearn: 0.3911167\ttotal: 2.89s\tremaining: 1.44s\n",
      "599:\tlearn: 0.3816268\ttotal: 4.28s\tremaining: 0us\n",
      "[CV 1/5; 2/8] END depth=6, iterations=600, learning_rate=0.01; AUC-ROC: (test=0.715) total time=   4.5s\n",
      "[CV 2/5; 2/8] START depth=6, iterations=600, learning_rate=0.01.................\n",
      "0:\tlearn: 0.6869166\ttotal: 7.33ms\tremaining: 4.39s\n",
      "200:\tlearn: 0.4100258\ttotal: 1.47s\tremaining: 2.91s\n",
      "400:\tlearn: 0.3874865\ttotal: 2.94s\tremaining: 1.46s\n",
      "599:\tlearn: 0.3777186\ttotal: 4.4s\tremaining: 0us\n",
      "[CV 2/5; 2/8] END depth=6, iterations=600, learning_rate=0.01; AUC-ROC: (test=0.709) total time=   4.6s\n",
      "[CV 3/5; 2/8] START depth=6, iterations=600, learning_rate=0.01.................\n",
      "0:\tlearn: 0.6869531\ttotal: 8.14ms\tremaining: 4.88s\n",
      "200:\tlearn: 0.4151971\ttotal: 1.5s\tremaining: 2.98s\n",
      "400:\tlearn: 0.3949364\ttotal: 2.96s\tremaining: 1.47s\n",
      "599:\tlearn: 0.3858195\ttotal: 4.37s\tremaining: 0us\n",
      "[CV 3/5; 2/8] END depth=6, iterations=600, learning_rate=0.01; AUC-ROC: (test=0.715) total time=   4.6s\n",
      "[CV 4/5; 2/8] START depth=6, iterations=600, learning_rate=0.01.................\n",
      "0:\tlearn: 0.6868738\ttotal: 8.07ms\tremaining: 4.83s\n",
      "200:\tlearn: 0.4191167\ttotal: 1.43s\tremaining: 2.85s\n",
      "400:\tlearn: 0.3984487\ttotal: 2.9s\tremaining: 1.44s\n",
      "599:\tlearn: 0.3881059\ttotal: 4.37s\tremaining: 0us\n",
      "[CV 4/5; 2/8] END depth=6, iterations=600, learning_rate=0.01; AUC-ROC: (test=0.720) total time=   4.6s\n",
      "[CV 5/5; 2/8] START depth=6, iterations=600, learning_rate=0.01.................\n",
      "0:\tlearn: 0.6866463\ttotal: 10.1ms\tremaining: 6.05s\n",
      "200:\tlearn: 0.4176580\ttotal: 1.48s\tremaining: 2.94s\n",
      "400:\tlearn: 0.3981032\ttotal: 2.92s\tremaining: 1.45s\n",
      "599:\tlearn: 0.3879524\ttotal: 4.31s\tremaining: 0us\n",
      "[CV 5/5; 2/8] END depth=6, iterations=600, learning_rate=0.01; AUC-ROC: (test=0.711) total time=   4.5s\n",
      "[CV 1/5; 3/8] START depth=6, iterations=800, learning_rate=0.005................\n",
      "0:\tlearn: 0.6900785\ttotal: 7.84ms\tremaining: 6.26s\n",
      "200:\tlearn: 0.4475571\ttotal: 1.4s\tremaining: 4.17s\n",
      "400:\tlearn: 0.4119573\ttotal: 2.82s\tremaining: 2.8s\n",
      "600:\tlearn: 0.3985893\ttotal: 4.26s\tremaining: 1.41s\n",
      "799:\tlearn: 0.3917098\ttotal: 5.65s\tremaining: 0us\n",
      "[CV 1/5; 3/8] END depth=6, iterations=800, learning_rate=0.005; AUC-ROC: (test=0.712) total time=   5.9s\n",
      "[CV 2/5; 3/8] START depth=6, iterations=800, learning_rate=0.005................\n",
      "0:\tlearn: 0.6900189\ttotal: 7.7ms\tremaining: 6.16s\n",
      "200:\tlearn: 0.4462059\ttotal: 1.46s\tremaining: 4.36s\n",
      "400:\tlearn: 0.4103617\ttotal: 2.92s\tremaining: 2.9s\n",
      "600:\tlearn: 0.3960277\ttotal: 4.4s\tremaining: 1.46s\n",
      "799:\tlearn: 0.3882261\ttotal: 5.79s\tremaining: 0us\n",
      "[CV 2/5; 3/8] END depth=6, iterations=800, learning_rate=0.005; AUC-ROC: (test=0.708) total time=   6.0s\n",
      "[CV 3/5; 3/8] START depth=6, iterations=800, learning_rate=0.005................\n",
      "0:\tlearn: 0.6900370\ttotal: 7.5ms\tremaining: 5.99s\n",
      "200:\tlearn: 0.4499545\ttotal: 1.48s\tremaining: 4.4s\n",
      "400:\tlearn: 0.4149486\ttotal: 2.94s\tremaining: 2.92s\n",
      "600:\tlearn: 0.4023454\ttotal: 4.43s\tremaining: 1.47s\n",
      "799:\tlearn: 0.3954852\ttotal: 5.86s\tremaining: 0us\n",
      "[CV 3/5; 3/8] END depth=6, iterations=800, learning_rate=0.005; AUC-ROC: (test=0.714) total time=   6.1s\n",
      "[CV 4/5; 3/8] START depth=6, iterations=800, learning_rate=0.005................\n",
      "0:\tlearn: 0.6899968\ttotal: 7.36ms\tremaining: 5.88s\n",
      "200:\tlearn: 0.4541329\ttotal: 1.43s\tremaining: 4.27s\n",
      "400:\tlearn: 0.4191873\ttotal: 2.92s\tremaining: 2.91s\n",
      "600:\tlearn: 0.4065992\ttotal: 4.39s\tremaining: 1.45s\n",
      "799:\tlearn: 0.3989078\ttotal: 5.83s\tremaining: 0us\n",
      "[CV 4/5; 3/8] END depth=6, iterations=800, learning_rate=0.005; AUC-ROC: (test=0.714) total time=   6.1s\n",
      "[CV 5/5; 3/8] START depth=6, iterations=800, learning_rate=0.005................\n",
      "0:\tlearn: 0.6898830\ttotal: 10.2ms\tremaining: 8.15s\n",
      "200:\tlearn: 0.4545280\ttotal: 1.44s\tremaining: 4.28s\n",
      "400:\tlearn: 0.4193117\ttotal: 2.91s\tremaining: 2.9s\n",
      "600:\tlearn: 0.4060151\ttotal: 4.37s\tremaining: 1.45s\n",
      "799:\tlearn: 0.3982228\ttotal: 5.82s\tremaining: 0us\n",
      "[CV 5/5; 3/8] END depth=6, iterations=800, learning_rate=0.005; AUC-ROC: (test=0.705) total time=   6.1s\n",
      "[CV 1/5; 4/8] START depth=6, iterations=800, learning_rate=0.01.................\n",
      "0:\tlearn: 0.6870349\ttotal: 7.5ms\tremaining: 5.99s\n",
      "200:\tlearn: 0.4109297\ttotal: 1.47s\tremaining: 4.39s\n",
      "400:\tlearn: 0.3911167\ttotal: 2.91s\tremaining: 2.9s\n",
      "600:\tlearn: 0.3815412\ttotal: 4.29s\tremaining: 1.42s\n",
      "799:\tlearn: 0.3740401\ttotal: 5.65s\tremaining: 0us\n",
      "[CV 1/5; 4/8] END depth=6, iterations=800, learning_rate=0.01; AUC-ROC: (test=0.717) total time=   5.9s\n",
      "[CV 2/5; 4/8] START depth=6, iterations=800, learning_rate=0.01.................\n",
      "0:\tlearn: 0.6869166\ttotal: 7.49ms\tremaining: 5.99s\n",
      "200:\tlearn: 0.4100258\ttotal: 1.5s\tremaining: 4.46s\n",
      "400:\tlearn: 0.3874865\ttotal: 2.97s\tremaining: 2.95s\n",
      "600:\tlearn: 0.3777155\ttotal: 4.4s\tremaining: 1.46s\n",
      "799:\tlearn: 0.3697745\ttotal: 5.81s\tremaining: 0us\n",
      "[CV 2/5; 4/8] END depth=6, iterations=800, learning_rate=0.01; AUC-ROC: (test=0.703) total time=   6.0s\n",
      "[CV 3/5; 4/8] START depth=6, iterations=800, learning_rate=0.01.................\n",
      "0:\tlearn: 0.6869531\ttotal: 7.39ms\tremaining: 5.9s\n",
      "200:\tlearn: 0.4151971\ttotal: 1.48s\tremaining: 4.42s\n",
      "400:\tlearn: 0.3949364\ttotal: 2.97s\tremaining: 2.95s\n",
      "600:\tlearn: 0.3858043\ttotal: 4.4s\tremaining: 1.46s\n",
      "799:\tlearn: 0.3768402\ttotal: 5.83s\tremaining: 0us\n",
      "[CV 3/5; 4/8] END depth=6, iterations=800, learning_rate=0.01; AUC-ROC: (test=0.717) total time=   6.1s\n",
      "[CV 4/5; 4/8] START depth=6, iterations=800, learning_rate=0.01.................\n",
      "0:\tlearn: 0.6868738\ttotal: 8.22ms\tremaining: 6.57s\n",
      "200:\tlearn: 0.4191167\ttotal: 1.44s\tremaining: 4.29s\n",
      "400:\tlearn: 0.3984487\ttotal: 2.93s\tremaining: 2.92s\n",
      "600:\tlearn: 0.3880420\ttotal: 4.38s\tremaining: 1.45s\n",
      "799:\tlearn: 0.3797719\ttotal: 5.77s\tremaining: 0us\n",
      "[CV 4/5; 4/8] END depth=6, iterations=800, learning_rate=0.01; AUC-ROC: (test=0.719) total time=   6.0s\n",
      "[CV 5/5; 4/8] START depth=6, iterations=800, learning_rate=0.01.................\n",
      "0:\tlearn: 0.6866463\ttotal: 9.9ms\tremaining: 7.91s\n",
      "200:\tlearn: 0.4176580\ttotal: 1.51s\tremaining: 4.5s\n",
      "400:\tlearn: 0.3981032\ttotal: 2.94s\tremaining: 2.93s\n",
      "600:\tlearn: 0.3879307\ttotal: 4.36s\tremaining: 1.44s\n"
     ]
    },
    {
     "name": "stdout",
     "output_type": "stream",
     "text": [
      "799:\tlearn: 0.3790331\ttotal: 5.79s\tremaining: 0us\n",
      "[CV 5/5; 4/8] END depth=6, iterations=800, learning_rate=0.01; AUC-ROC: (test=0.711) total time=   6.0s\n",
      "[CV 1/5; 5/8] START depth=7, iterations=600, learning_rate=0.005................\n",
      "0:\tlearn: 0.6900785\ttotal: 7.56ms\tremaining: 4.53s\n",
      "200:\tlearn: 0.4433810\ttotal: 1.73s\tremaining: 3.43s\n",
      "400:\tlearn: 0.4053812\ttotal: 3.56s\tremaining: 1.76s\n",
      "599:\tlearn: 0.3911184\ttotal: 5.38s\tremaining: 0us\n",
      "[CV 1/5; 5/8] END depth=7, iterations=600, learning_rate=0.005; AUC-ROC: (test=0.711) total time=   5.6s\n",
      "[CV 2/5; 5/8] START depth=7, iterations=600, learning_rate=0.005................\n",
      "0:\tlearn: 0.6900189\ttotal: 7.48ms\tremaining: 4.48s\n",
      "200:\tlearn: 0.4421758\ttotal: 1.73s\tremaining: 3.43s\n",
      "400:\tlearn: 0.4040908\ttotal: 3.56s\tremaining: 1.77s\n",
      "599:\tlearn: 0.3883928\ttotal: 5.46s\tremaining: 0us\n",
      "[CV 2/5; 5/8] END depth=7, iterations=600, learning_rate=0.005; AUC-ROC: (test=0.705) total time=   5.7s\n",
      "[CV 3/5; 5/8] START depth=7, iterations=600, learning_rate=0.005................\n",
      "0:\tlearn: 0.6900370\ttotal: 7.44ms\tremaining: 4.45s\n",
      "200:\tlearn: 0.4452120\ttotal: 1.77s\tremaining: 3.52s\n",
      "400:\tlearn: 0.4086509\ttotal: 3.65s\tremaining: 1.81s\n",
      "599:\tlearn: 0.3946184\ttotal: 5.49s\tremaining: 0us\n",
      "[CV 3/5; 5/8] END depth=7, iterations=600, learning_rate=0.005; AUC-ROC: (test=0.717) total time=   5.7s\n",
      "[CV 4/5; 5/8] START depth=7, iterations=600, learning_rate=0.005................\n",
      "0:\tlearn: 0.6899968\ttotal: 7.53ms\tremaining: 4.51s\n",
      "200:\tlearn: 0.4480653\ttotal: 1.79s\tremaining: 3.55s\n",
      "400:\tlearn: 0.4110305\ttotal: 3.7s\tremaining: 1.84s\n",
      "599:\tlearn: 0.3970187\ttotal: 5.71s\tremaining: 0us\n",
      "[CV 4/5; 5/8] END depth=7, iterations=600, learning_rate=0.005; AUC-ROC: (test=0.714) total time=   5.9s\n",
      "[CV 5/5; 5/8] START depth=7, iterations=600, learning_rate=0.005................\n",
      "0:\tlearn: 0.6898767\ttotal: 12.1ms\tremaining: 7.25s\n",
      "200:\tlearn: 0.4484859\ttotal: 1.77s\tremaining: 3.51s\n",
      "400:\tlearn: 0.4115565\ttotal: 3.57s\tremaining: 1.77s\n",
      "599:\tlearn: 0.3973199\ttotal: 5.39s\tremaining: 0us\n",
      "[CV 5/5; 5/8] END depth=7, iterations=600, learning_rate=0.005; AUC-ROC: (test=0.699) total time=   5.6s\n",
      "[CV 1/5; 6/8] START depth=7, iterations=600, learning_rate=0.01.................\n",
      "0:\tlearn: 0.6870349\ttotal: 7.46ms\tremaining: 4.47s\n",
      "200:\tlearn: 0.4056503\ttotal: 1.78s\tremaining: 3.53s\n",
      "400:\tlearn: 0.3807840\ttotal: 3.59s\tremaining: 1.78s\n",
      "599:\tlearn: 0.3701223\ttotal: 5.23s\tremaining: 0us\n",
      "[CV 1/5; 6/8] END depth=7, iterations=600, learning_rate=0.01; AUC-ROC: (test=0.718) total time=   5.4s\n",
      "[CV 2/5; 6/8] START depth=7, iterations=600, learning_rate=0.01.................\n",
      "0:\tlearn: 0.6869166\ttotal: 7.37ms\tremaining: 4.41s\n",
      "200:\tlearn: 0.4046925\ttotal: 1.76s\tremaining: 3.5s\n",
      "400:\tlearn: 0.3796167\ttotal: 3.64s\tremaining: 1.81s\n",
      "599:\tlearn: 0.3671272\ttotal: 5.41s\tremaining: 0us\n",
      "[CV 2/5; 6/8] END depth=7, iterations=600, learning_rate=0.01; AUC-ROC: (test=0.707) total time=   5.7s\n",
      "[CV 3/5; 6/8] START depth=7, iterations=600, learning_rate=0.01.................\n",
      "0:\tlearn: 0.6869531\ttotal: 8.62ms\tremaining: 5.16s\n",
      "200:\tlearn: 0.4071660\ttotal: 1.88s\tremaining: 3.73s\n",
      "400:\tlearn: 0.3837309\ttotal: 3.77s\tremaining: 1.87s\n",
      "599:\tlearn: 0.3728656\ttotal: 5.62s\tremaining: 0us\n",
      "[CV 3/5; 6/8] END depth=7, iterations=600, learning_rate=0.01; AUC-ROC: (test=0.720) total time=   5.8s\n",
      "[CV 4/5; 6/8] START depth=7, iterations=600, learning_rate=0.01.................\n",
      "0:\tlearn: 0.6868738\ttotal: 7.36ms\tremaining: 4.41s\n",
      "200:\tlearn: 0.4104225\ttotal: 1.86s\tremaining: 3.69s\n",
      "400:\tlearn: 0.3877931\ttotal: 3.72s\tremaining: 1.85s\n",
      "599:\tlearn: 0.3754730\ttotal: 5.55s\tremaining: 0us\n",
      "[CV 4/5; 6/8] END depth=7, iterations=600, learning_rate=0.01; AUC-ROC: (test=0.715) total time=   5.8s\n",
      "[CV 5/5; 6/8] START depth=7, iterations=600, learning_rate=0.01.................\n",
      "0:\tlearn: 0.6866337\ttotal: 12.4ms\tremaining: 7.4s\n",
      "200:\tlearn: 0.4122134\ttotal: 1.82s\tremaining: 3.62s\n",
      "400:\tlearn: 0.3882698\ttotal: 3.61s\tremaining: 1.79s\n",
      "599:\tlearn: 0.3740147\ttotal: 5.39s\tremaining: 0us\n",
      "[CV 5/5; 6/8] END depth=7, iterations=600, learning_rate=0.01; AUC-ROC: (test=0.712) total time=   5.6s\n",
      "[CV 1/5; 7/8] START depth=7, iterations=800, learning_rate=0.005................\n",
      "0:\tlearn: 0.6900785\ttotal: 7.4ms\tremaining: 5.91s\n",
      "200:\tlearn: 0.4433810\ttotal: 1.75s\tremaining: 5.2s\n",
      "400:\tlearn: 0.4053812\ttotal: 3.58s\tremaining: 3.56s\n",
      "600:\tlearn: 0.3910357\ttotal: 5.41s\tremaining: 1.79s\n",
      "799:\tlearn: 0.3814693\ttotal: 7.23s\tremaining: 0us\n",
      "[CV 1/5; 7/8] END depth=7, iterations=800, learning_rate=0.005; AUC-ROC: (test=0.714) total time=   7.5s\n",
      "[CV 2/5; 7/8] START depth=7, iterations=800, learning_rate=0.005................\n",
      "0:\tlearn: 0.6900189\ttotal: 7.94ms\tremaining: 6.34s\n",
      "200:\tlearn: 0.4421758\ttotal: 1.75s\tremaining: 5.21s\n",
      "400:\tlearn: 0.4040908\ttotal: 3.62s\tremaining: 3.6s\n",
      "600:\tlearn: 0.3883398\ttotal: 5.55s\tremaining: 1.84s\n",
      "799:\tlearn: 0.3783315\ttotal: 7.43s\tremaining: 0us\n",
      "[CV 2/5; 7/8] END depth=7, iterations=800, learning_rate=0.005; AUC-ROC: (test=0.706) total time=   7.7s\n",
      "[CV 3/5; 7/8] START depth=7, iterations=800, learning_rate=0.005................\n",
      "0:\tlearn: 0.6900370\ttotal: 7.8ms\tremaining: 6.23s\n",
      "200:\tlearn: 0.4452120\ttotal: 1.74s\tremaining: 5.19s\n",
      "400:\tlearn: 0.4086509\ttotal: 3.59s\tremaining: 3.57s\n",
      "600:\tlearn: 0.3945197\ttotal: 5.44s\tremaining: 1.8s\n",
      "799:\tlearn: 0.3855562\ttotal: 7.28s\tremaining: 0us\n",
      "[CV 3/5; 7/8] END depth=7, iterations=800, learning_rate=0.005; AUC-ROC: (test=0.718) total time=   7.5s\n",
      "[CV 4/5; 7/8] START depth=7, iterations=800, learning_rate=0.005................\n",
      "0:\tlearn: 0.6899968\ttotal: 7.69ms\tremaining: 6.14s\n",
      "200:\tlearn: 0.4480653\ttotal: 1.78s\tremaining: 5.3s\n",
      "400:\tlearn: 0.4110305\ttotal: 3.68s\tremaining: 3.67s\n",
      "600:\tlearn: 0.3969761\ttotal: 5.58s\tremaining: 1.85s\n",
      "799:\tlearn: 0.3882694\ttotal: 7.42s\tremaining: 0us\n",
      "[CV 4/5; 7/8] END depth=7, iterations=800, learning_rate=0.005; AUC-ROC: (test=0.717) total time=   7.7s\n",
      "[CV 5/5; 7/8] START depth=7, iterations=800, learning_rate=0.005................\n",
      "0:\tlearn: 0.6898767\ttotal: 12.6ms\tremaining: 10s\n",
      "200:\tlearn: 0.4484859\ttotal: 1.8s\tremaining: 5.38s\n",
      "400:\tlearn: 0.4115565\ttotal: 3.6s\tremaining: 3.58s\n",
      "600:\tlearn: 0.3972798\ttotal: 5.42s\tremaining: 1.79s\n",
      "799:\tlearn: 0.3881586\ttotal: 7.15s\tremaining: 0us\n",
      "[CV 5/5; 7/8] END depth=7, iterations=800, learning_rate=0.005; AUC-ROC: (test=0.705) total time=   7.4s\n",
      "[CV 1/5; 8/8] START depth=7, iterations=800, learning_rate=0.01.................\n",
      "0:\tlearn: 0.6870349\ttotal: 7.59ms\tremaining: 6.07s\n",
      "200:\tlearn: 0.4056503\ttotal: 1.84s\tremaining: 5.49s\n",
      "400:\tlearn: 0.3807840\ttotal: 3.73s\tremaining: 3.71s\n",
      "600:\tlearn: 0.3699441\ttotal: 5.4s\tremaining: 1.79s\n",
      "799:\tlearn: 0.3588632\ttotal: 7.11s\tremaining: 0us\n",
      "[CV 1/5; 8/8] END depth=7, iterations=800, learning_rate=0.01; AUC-ROC: (test=0.719) total time=   7.3s\n",
      "[CV 2/5; 8/8] START depth=7, iterations=800, learning_rate=0.01.................\n",
      "0:\tlearn: 0.6869166\ttotal: 7.56ms\tremaining: 6.04s\n",
      "200:\tlearn: 0.4046925\ttotal: 1.75s\tremaining: 5.2s\n",
      "400:\tlearn: 0.3796167\ttotal: 3.59s\tremaining: 3.58s\n",
      "600:\tlearn: 0.3671239\ttotal: 5.38s\tremaining: 1.78s\n",
      "799:\tlearn: 0.3549005\ttotal: 7.18s\tremaining: 0us\n",
      "[CV 2/5; 8/8] END depth=7, iterations=800, learning_rate=0.01; AUC-ROC: (test=0.702) total time=   7.4s\n",
      "[CV 3/5; 8/8] START depth=7, iterations=800, learning_rate=0.01.................\n",
      "0:\tlearn: 0.6869531\ttotal: 7.28ms\tremaining: 5.82s\n",
      "200:\tlearn: 0.4071660\ttotal: 1.87s\tremaining: 5.59s\n",
      "400:\tlearn: 0.3837309\ttotal: 3.79s\tremaining: 3.77s\n",
      "600:\tlearn: 0.3728572\ttotal: 5.6s\tremaining: 1.85s\n",
      "799:\tlearn: 0.3621613\ttotal: 7.41s\tremaining: 0us\n",
      "[CV 3/5; 8/8] END depth=7, iterations=800, learning_rate=0.01; AUC-ROC: (test=0.718) total time=   7.6s\n",
      "[CV 4/5; 8/8] START depth=7, iterations=800, learning_rate=0.01.................\n",
      "0:\tlearn: 0.6868738\ttotal: 7.87ms\tremaining: 6.29s\n",
      "200:\tlearn: 0.4104225\ttotal: 1.86s\tremaining: 5.56s\n",
      "400:\tlearn: 0.3877931\ttotal: 3.73s\tremaining: 3.71s\n",
      "600:\tlearn: 0.3754433\ttotal: 5.57s\tremaining: 1.84s\n",
      "799:\tlearn: 0.3644629\ttotal: 7.4s\tremaining: 0us\n",
      "[CV 4/5; 8/8] END depth=7, iterations=800, learning_rate=0.01; AUC-ROC: (test=0.718) total time=   7.7s\n",
      "[CV 5/5; 8/8] START depth=7, iterations=800, learning_rate=0.01.................\n",
      "0:\tlearn: 0.6866337\ttotal: 12ms\tremaining: 9.61s\n",
      "200:\tlearn: 0.4122134\ttotal: 1.84s\tremaining: 5.5s\n"
     ]
    },
    {
     "name": "stdout",
     "output_type": "stream",
     "text": [
      "400:\tlearn: 0.3882698\ttotal: 3.65s\tremaining: 3.64s\n",
      "600:\tlearn: 0.3739782\ttotal: 5.46s\tremaining: 1.81s\n",
      "799:\tlearn: 0.3619918\ttotal: 7.25s\tremaining: 0us\n",
      "[CV 5/5; 8/8] END depth=7, iterations=800, learning_rate=0.01; AUC-ROC: (test=0.708) total time=   7.5s\n",
      "0:\tlearn: 0.6861815\ttotal: 15.6ms\tremaining: 9.36s\n",
      "200:\tlearn: 0.4102029\ttotal: 2.08s\tremaining: 4.12s\n",
      "400:\tlearn: 0.3867787\ttotal: 4.22s\tremaining: 2.09s\n",
      "599:\tlearn: 0.3755386\ttotal: 6.2s\tremaining: 0us\n",
      "Mejores hiperparámetros: {'depth': 7, 'iterations': 600, 'learning_rate': 0.01}\n",
      "0.8565085780339129\n"
     ]
    }
   ],
   "source": [
    "# Define un diccionario de hiperparámetros que deseas ajustar\n",
    "param_grid = {\n",
    "    'iterations': [600,800],  # Número de iteraciones (árboles)\n",
    "    'depth': [6,7],  # Profundidad máxima de los árboles\n",
    "    'learning_rate': [0.005,0.01],  # Tasa de aprendizaje\n",
    "}\n",
    "\n",
    "# Crea un modelo de CatBoostRegressor\n",
    "catboost = CatBoostClassifier(loss_function='Logloss', random_seed=12345,\n",
    "                              cat_features=categoricas, early_stopping_rounds=30, verbose=200)  \n",
    "\n",
    "# Crea un objeto GridSearchCV con el modelo y el diccionario de hiperparámetros\n",
    "grid_search2 = GridSearchCV(estimator=catboost, param_grid=param_grid, \n",
    "                            scoring={'AUC-ROC': auc_roc_scorer}, refit='AUC-ROC', cv=None, verbose=10) \n",
    "\n",
    "\n",
    "# Ajusta el modelo a tus datos de entrenamiento\n",
    "grid_search2.fit(features_train, target_train)\n",
    "\n",
    "# Imprime los mejores hiperparámetros encontrados\n",
    "print(\"Mejores hiperparámetros:\", grid_search2.best_params_)\n",
    "\n",
    "# Obtén el mejor modelo entrenado\n",
    "best_catboost_model = grid_search2.best_estimator_\n",
    "\n",
    "\n",
    "# Hacer predicciones en el conjunto de validación\n",
    "predicted_probs = best_catboost_model.predict_proba(features_valid)[:, 1]\n",
    "\n",
    "# Calcular el AUC-ROC en el conjunto de validación\n",
    "auc_roc = roc_auc_score(target_valid, predicted_probs)\n",
    "print('auc_roc:',auc_roc)"
   ]
  },
  {
   "cell_type": "markdown",
   "metadata": {},
   "source": [
    "### REDES NEURONALES"
   ]
  },
  {
   "cell_type": "code",
   "execution_count": 86,
   "metadata": {
    "collapsed": true,
    "jupyter": {
     "outputs_hidden": true
    }
   },
   "outputs": [
    {
     "name": "stderr",
     "output_type": "stream",
     "text": [
      "/tmp/ipykernel_247/746931089.py:16: SettingWithCopyWarning: \n",
      "A value is trying to be set on a copy of a slice from a DataFrame.\n",
      "Try using .loc[row_indexer,col_indexer] = value instead\n",
      "\n",
      "See the caveats in the documentation: https://pandas.pydata.org/pandas-docs/stable/user_guide/indexing.html#returning-a-view-versus-a-copy\n",
      "  features_train_ohe_esc[numeric] = scaler.transform(features_train_ohe_esc[numeric])\n",
      "/opt/conda/lib/python3.9/site-packages/pandas/core/indexing.py:1738: SettingWithCopyWarning: \n",
      "A value is trying to be set on a copy of a slice from a DataFrame.\n",
      "Try using .loc[row_indexer,col_indexer] = value instead\n",
      "\n",
      "See the caveats in the documentation: https://pandas.pydata.org/pandas-docs/stable/user_guide/indexing.html#returning-a-view-versus-a-copy\n",
      "  self._setitem_single_column(loc, value[:, i].tolist(), pi)\n",
      "/tmp/ipykernel_247/746931089.py:17: SettingWithCopyWarning: \n",
      "A value is trying to be set on a copy of a slice from a DataFrame.\n",
      "Try using .loc[row_indexer,col_indexer] = value instead\n",
      "\n",
      "See the caveats in the documentation: https://pandas.pydata.org/pandas-docs/stable/user_guide/indexing.html#returning-a-view-versus-a-copy\n",
      "  features_valid_ohe_esc[numeric] = scaler.transform(features_valid_ohe_esc[numeric])\n",
      "/opt/conda/lib/python3.9/site-packages/pandas/core/indexing.py:1738: SettingWithCopyWarning: \n",
      "A value is trying to be set on a copy of a slice from a DataFrame.\n",
      "Try using .loc[row_indexer,col_indexer] = value instead\n",
      "\n",
      "See the caveats in the documentation: https://pandas.pydata.org/pandas-docs/stable/user_guide/indexing.html#returning-a-view-versus-a-copy\n",
      "  self._setitem_single_column(loc, value[:, i].tolist(), pi)\n"
     ]
    }
   ],
   "source": [
    "# Aplicar one hot encoding, especialmente para usarla en regresión logistica\n",
    "data_ohe = pd.get_dummies(df_resultado, drop_first=True)\n",
    "\n",
    "# SeparaR el target de los features\n",
    "target_ohe_esc=data_ohe['target']\n",
    "feaures_ohe_esc=data_ohe.drop('target', axis=1)\n",
    "\n",
    "features_train_ohe_esc, features_valid_ohe_esc, target_train_ohe_esc, target_valid_ohe_esc = train_test_split(\n",
    "    feaures_ohe_esc, target_ohe_esc, test_size=0.25, random_state=12345)\n",
    "\n",
    "\n",
    "# aplicar primero el scaler y luego upsample\n",
    "\n",
    "scaler = StandardScaler()\n",
    "scaler.fit(features_train_ohe_esc[numeric])\n",
    "features_train_ohe_esc[numeric] = scaler.transform(features_train_ohe_esc[numeric])\n",
    "features_valid_ohe_esc[numeric] = scaler.transform(features_valid_ohe_esc[numeric])\n",
    "\n",
    "# el upsample solo se aplica al dataset de training\n",
    "features_upsampled, target_upsampled = upsample(features_train_ohe_esc, target_train_ohe_esc, 2)"
   ]
  },
  {
   "cell_type": "code",
   "execution_count": 139,
   "metadata": {
    "scrolled": true
   },
   "outputs": [
    {
     "name": "stderr",
     "output_type": "stream",
     "text": [
      "/opt/conda/lib/python3.9/site-packages/keras/optimizer_v2/adam.py:105: UserWarning: The `lr` argument is deprecated, use `learning_rate` instead.\n",
      "  super(Adam, self).__init__(name, **kwargs)\n"
     ]
    },
    {
     "name": "stdout",
     "output_type": "stream",
     "text": [
      "Epoch 1/20\n",
      "334/334 [==============================] - 2s 4ms/step - loss: 0.5304 - accuracy: 0.7421 - val_loss: 0.4773 - val_accuracy: 0.7821\n",
      "Epoch 2/20\n",
      "334/334 [==============================] - 1s 4ms/step - loss: 0.4977 - accuracy: 0.7588 - val_loss: 0.4593 - val_accuracy: 0.7884\n",
      "Epoch 3/20\n",
      "334/334 [==============================] - 1s 4ms/step - loss: 0.4930 - accuracy: 0.7594 - val_loss: 0.4506 - val_accuracy: 0.7890\n",
      "Epoch 4/20\n",
      "334/334 [==============================] - 1s 3ms/step - loss: 0.4907 - accuracy: 0.7607 - val_loss: 0.4527 - val_accuracy: 0.7884\n",
      "Epoch 5/20\n",
      "334/334 [==============================] - 1s 4ms/step - loss: 0.4896 - accuracy: 0.7613 - val_loss: 0.4454 - val_accuracy: 0.7901\n",
      "Epoch 6/20\n",
      "334/334 [==============================] - 1s 4ms/step - loss: 0.4884 - accuracy: 0.7606 - val_loss: 0.4495 - val_accuracy: 0.7816\n",
      "Epoch 7/20\n",
      "334/334 [==============================] - 1s 3ms/step - loss: 0.4877 - accuracy: 0.7607 - val_loss: 0.4575 - val_accuracy: 0.7787\n",
      "Epoch 8/20\n",
      "334/334 [==============================] - 1s 4ms/step - loss: 0.4864 - accuracy: 0.7630 - val_loss: 0.4501 - val_accuracy: 0.7821\n",
      "Epoch 9/20\n",
      "334/334 [==============================] - 1s 4ms/step - loss: 0.4856 - accuracy: 0.7613 - val_loss: 0.4586 - val_accuracy: 0.7742\n",
      "Epoch 10/20\n",
      "334/334 [==============================] - 1s 3ms/step - loss: 0.4848 - accuracy: 0.7598 - val_loss: 0.4474 - val_accuracy: 0.7844\n",
      "Epoch 11/20\n",
      "334/334 [==============================] - 1s 4ms/step - loss: 0.4834 - accuracy: 0.7610 - val_loss: 0.4543 - val_accuracy: 0.7765\n",
      "Epoch 12/20\n",
      "334/334 [==============================] - 1s 4ms/step - loss: 0.4828 - accuracy: 0.7609 - val_loss: 0.4446 - val_accuracy: 0.7873\n",
      "Epoch 13/20\n",
      "334/334 [==============================] - 1s 3ms/step - loss: 0.4820 - accuracy: 0.7612 - val_loss: 0.4471 - val_accuracy: 0.7856\n",
      "Epoch 14/20\n",
      "334/334 [==============================] - 1s 3ms/step - loss: 0.4813 - accuracy: 0.7613 - val_loss: 0.4504 - val_accuracy: 0.7799\n",
      "Epoch 15/20\n",
      "334/334 [==============================] - 1s 4ms/step - loss: 0.4808 - accuracy: 0.7615 - val_loss: 0.4510 - val_accuracy: 0.7759\n",
      "Epoch 16/20\n",
      "334/334 [==============================] - 1s 3ms/step - loss: 0.4802 - accuracy: 0.7610 - val_loss: 0.4501 - val_accuracy: 0.7759\n",
      "Epoch 17/20\n",
      "334/334 [==============================] - 1s 4ms/step - loss: 0.4798 - accuracy: 0.7634 - val_loss: 0.4532 - val_accuracy: 0.7725\n",
      "Epoch 18/20\n",
      "334/334 [==============================] - 1s 3ms/step - loss: 0.4789 - accuracy: 0.7636 - val_loss: 0.4395 - val_accuracy: 0.7884\n",
      "Epoch 19/20\n",
      "334/334 [==============================] - 1s 4ms/step - loss: 0.4792 - accuracy: 0.7609 - val_loss: 0.4411 - val_accuracy: 0.7890\n",
      "Epoch 20/20\n",
      "334/334 [==============================] - 1s 3ms/step - loss: 0.4785 - accuracy: 0.7640 - val_loss: 0.4506 - val_accuracy: 0.7730\n",
      "auc_roc: 0.8469908273665478\n"
     ]
    }
   ],
   "source": [
    "# Construye el modelo de red neuronal\n",
    "model_nn = Sequential()\n",
    "model_nn.add(Dense(units=128, activation='tanh', input_dim=features_upsampled.shape[1]))\n",
    "model_nn.add(Dense(units=64, activation='tanh'))\n",
    "model_nn.add(Dense(units=1, activation='sigmoid'))\n",
    "\n",
    "optimizer = Adam(lr=0.0001)\n",
    "\n",
    "# Compila el modelo\n",
    "model_nn.compile(optimizer=optimizer, loss='binary_crossentropy', metrics=['accuracy'])\n",
    "\n",
    "\n",
    "# Entrena el modelo\n",
    "model_nn.fit(features_upsampled, target_upsampled, epochs=20, batch_size=20,\n",
    "          validation_data=(features_valid_ohe_esc, target_valid_ohe_esc))\n",
    "\n",
    "# Realiza predicciones en el conjunto de prueba\n",
    "predictions = model_nn.predict(features_valid_ohe_esc)\n",
    "predictions_binary = (predictions > 0.5).astype(int)\n",
    "\n",
    "\n",
    "# Hacer predicciones en el conjunto de validación\n",
    "predicted_probs = model_nn.predict(features_valid_ohe_esc)[:, 0] \n",
    "\n",
    "# Calcular el AUC-ROC en el conjunto de validación\n",
    "auc_roc = roc_auc_score(target_valid, predicted_probs)\n",
    "print('auc_roc:',auc_roc)"
   ]
  },
  {
   "cell_type": "markdown",
   "metadata": {},
   "source": [
    "## CONCLUSIONES"
   ]
  },
  {
   "cell_type": "markdown",
   "metadata": {},
   "source": [
    "1. EL objetivo de este proyecto es resolver un problema de clasificación binaria.\n",
    "1. Existen valores ausenten en el conjunto de dataset proporcionados, por otro lado, individualmente cada dataset no tiene valores ausentes.\n",
    "2. Las caracteríticas BeginDate, EndDate y TotalCharges necesitaban un cambio de tipo de dato.\n",
    "3. Las características BeginDate y EndDate fueron eliminadas. BeginDate por no ser relevante y EndDate por ser peligrosamente muy proporcional al target y poder causar un sobreajuste. Todo esto debido a que el dataset esta muy desfasado en el tiempo (muy antiguo).\n",
    "4. No existe tendencia de nuevos clientes a lo largo de los años (gráfico 1).\n",
    "5. Los valores ausente en cuanto a servicios de internet service es causado porque hay los clientes que trabajan con Interconnect pero no cuentan con servicio de internet. Es por eso que los valores nulos fueron rellenados con 'No' que refiere a que no cuentan con el servicio.\n",
    "6. Se eliminaron los registros que tenían valores extraños, por ejemplo, en TotalCharges habian valores string cuando todos debian ser numericos.\n",
    "7. Evaluando el target y teniendo en cuenta que (permanecen:1, se fueron:0): \n",
    "    7.1 La mayoria de clientes que se van tenían un tipo de contrato month-to-month, al final del proyecto se podrá decir si está feature es significativa y si es buena estrategia tratar de pasar a los clientes a otro tipo de contrato mediante promociones. \n",
    "    7.2 De la misma manera, hay una menor fuga de clientes cuando el método de pago es automamitco (credit card o bank transfer).\n",
    "8. El diagrama de disperción entre TotalCharges vs target y MonthlyCharges vs target indica que no existe una correlación visible entre ellos.\n",
    "9. Efectivamente existe un desequilibrio de clases de 73%(1) y 27%(0).\n",
    "\n",
    "\n",
    "10. Se trabajó con 6 diferentes modelos utilizando diferentes algoritmos, los resultados fueron:\n",
    "\n",
    "    10.1 Regresipon logística (con escalado de datos, ohe y sobremuestreo) dió un AUC-ROC: 0.84\n",
    "    \n",
    "    10.2 Arból de decision (solo con ohe) dió un AUC-ROC:0.828\n",
    "    \n",
    "    10.3 Random Forest (solo con ohe) dió un AUC-ROC:0.85\n",
    "    \n",
    "    10.4 XGBoost (solo con ohe) dió un AUC-ROC:0.856\n",
    "    \n",
    "    10.5 CatBoost dió un AUC-ROC: 0.857\n",
    "    \n",
    "    10.6 Red neuronal (con escalado de datos, ohe y sobremuestreo) dió un AUC-ROC: 0.846\n",
    "\n",
    "11. En este experimento, el mejor modelo  teniendo en cuenta la metrica AUC-ROC es el modelo desarrollado en CatBoost  con los parametros 'depth': 3, 'iterations': 400, 'learning_rate': 0.05.\n",
    "    "
   ]
  }
 ],
 "metadata": {
  "kernelspec": {
   "display_name": "Python 3 (ipykernel)",
   "language": "python",
   "name": "python3"
  },
  "language_info": {
   "codemirror_mode": {
    "name": "ipython",
    "version": 3
   },
   "file_extension": ".py",
   "mimetype": "text/x-python",
   "name": "python",
   "nbconvert_exporter": "python",
   "pygments_lexer": "ipython3",
   "version": "3.12.0"
  },
  "toc": {
   "base_numbering": 1,
   "nav_menu": {},
   "number_sections": true,
   "sideBar": true,
   "skip_h1_title": true,
   "title_cell": "Table of Contents",
   "title_sidebar": "Contents",
   "toc_cell": false,
   "toc_position": {},
   "toc_section_display": true,
   "toc_window_display": false
  }
 },
 "nbformat": 4,
 "nbformat_minor": 4
}
